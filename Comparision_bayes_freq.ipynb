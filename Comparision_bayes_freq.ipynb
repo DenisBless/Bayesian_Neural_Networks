{
 "cells": [
  {
   "cell_type": "code",
   "execution_count": 1,
   "metadata": {},
   "outputs": [
    {
     "name": "stdout",
     "output_type": "stream",
     "text": [
      "----------------------------------------------------------------\n",
      "        Layer (type)               Output Shape         Param #\n",
      "================================================================\n",
      "            Conv2d-1            [-1, 6, 28, 28]             456\n",
      "       BatchNorm2d-2            [-1, 6, 28, 28]              12\n",
      "          Softplus-3            [-1, 6, 28, 28]               0\n",
      "         MaxPool2d-4            [-1, 6, 14, 14]               0\n",
      "            Conv2d-5           [-1, 16, 10, 10]           2,416\n",
      "       BatchNorm2d-6           [-1, 16, 10, 10]              32\n",
      "          Softplus-7           [-1, 16, 10, 10]               0\n",
      "         MaxPool2d-8             [-1, 16, 5, 5]               0\n",
      "      FlattenLayer-9                  [-1, 400]               0\n",
      "           Linear-10                  [-1, 120]          48,120\n",
      "      BatchNorm1d-11                  [-1, 120]             240\n",
      "         Softplus-12                  [-1, 120]               0\n",
      "           Linear-13                   [-1, 10]           1,210\n",
      "================================================================\n",
      "Total params: 52,486\n",
      "Trainable params: 52,486\n",
      "Non-trainable params: 0\n",
      "----------------------------------------------------------------\n",
      "Input size (MB): 0.01\n",
      "Forward/backward pass size (MB): 0.16\n",
      "Params size (MB): 0.20\n",
      "Estimated Total Size (MB): 0.37\n",
      "----------------------------------------------------------------\n"
     ]
    }
   ],
   "source": [
    "from __future__ import print_function\n",
    "import math\n",
    "import torchvision.transforms as transforms\n",
    "import torch\n",
    "import torch.utils.data as data\n",
    "import numpy as np\n",
    "import torch.nn as nn\n",
    "import torch.optim as optim\n",
    "from torchvision import datasets\n",
    "from tqdm import tqdm\n",
    "from utils_BNN import neg_ELBO, Logger\n",
    "from model_BNN import Small_conv_net\n",
    "from model_SNN import Net\n",
    "import matplotlib.pyplot as plt"
   ]
  },
  {
   "cell_type": "code",
   "execution_count": 2,
   "metadata": {},
   "outputs": [],
   "source": [
    "use_cuda = torch.cuda.is_available()\n",
    "\n",
    "learning_rate = 0.001\n",
    "weight_decay = 0\n",
    "batch_size = 16\n",
    "num_epochs = 5"
   ]
  },
  {
   "cell_type": "code",
   "execution_count": 3,
   "metadata": {},
   "outputs": [],
   "source": [
    "# convert data to a normalized torch.FloatTensor\n",
    "transform = transforms.Compose([\n",
    "    transforms.ToTensor(),\n",
    "    transforms.Normalize((0.4914, 0.4822, 0.4465), (0.247, 0.243, 0.261))\n",
    "    ])"
   ]
  },
  {
   "cell_type": "code",
   "execution_count": null,
   "metadata": {},
   "outputs": [
    {
     "name": "stdout",
     "output_type": "stream",
     "text": [
      "Files already downloaded and verified\n",
      "Files already downloaded and verified\n"
     ]
    }
   ],
   "source": [
    "# choose the training and test datasets\n",
    "train_data = datasets.CIFAR10('data', train=True,\n",
    "                              download=True, transform=transform)\n",
    "test_data = datasets.CIFAR10('data', train=False,\n",
    "                             download=True, transform=transform)\n",
    "\n",
    "# prepare data loaders (combine dataset and sampler)\n",
    "train_loader = torch.utils.data.DataLoader(train_data, batch_size=batch_size)\n",
    "\n",
    "test_loader = torch.utils.data.DataLoader(test_data, batch_size=batch_size)"
   ]
  },
  {
   "cell_type": "markdown",
   "metadata": {},
   "source": [
    "# Bayesian net"
   ]
  },
  {
   "cell_type": "code",
   "execution_count": null,
   "metadata": {},
   "outputs": [],
   "source": [
    "net= Small_conv_net(10, 3)\n",
    "\n",
    "if use_cuda:\n",
    "    net.cuda()\n",
    "\n",
    "neg_elbo = neg_ELBO(loss=nn.CrossEntropyLoss())\n",
    "optimizer = optim.Adam(net.parameters(), lr=learning_rate, weight_decay=weight_decay)"
   ]
  },
  {
   "cell_type": "code",
   "execution_count": null,
   "metadata": {},
   "outputs": [],
   "source": [
    "logger = Logger(net)"
   ]
  },
  {
   "cell_type": "code",
   "execution_count": null,
   "metadata": {},
   "outputs": [
    {
     "name": "stderr",
     "output_type": "stream",
     "text": [
      "100%|██████████████████████████████████████████████████████████████████████████████| 3125/3125 [00:58<00:00, 53.78it/s]\n",
      "100%|███████████████████████████████████████████████████████████████████████████████| 625/625 [00:04<00:00, 128.64it/s]\n"
     ]
    },
    {
     "name": "stdout",
     "output_type": "stream",
     "text": [
      "--------------------------------------------------------------\n",
      "Epoch: 1\n",
      "--------------------------------------------------------------\n",
      "Trainig loss: 247266564804.44415\n",
      "--------------------------------------------------------------\n",
      "Accuracy of the network on the train images: 10.042 percent (5021/50000)\n",
      "--------------------------------------------------------------\n",
      "Accuracy of the network on the test images: 9.86 percent (986/10000)\n",
      "--------------------------------------------------------------\n"
     ]
    },
    {
     "name": "stderr",
     "output_type": "stream",
     "text": [
      "100%|██████████████████████████████████████████████████████████████████████████████| 3125/3125 [00:57<00:00, 54.21it/s]\n",
      "100%|███████████████████████████████████████████████████████████████████████████████| 625/625 [00:04<00:00, 126.88it/s]\n"
     ]
    },
    {
     "name": "stdout",
     "output_type": "stream",
     "text": [
      "--------------------------------------------------------------\n",
      "Epoch: 2\n",
      "--------------------------------------------------------------\n",
      "Trainig loss: 45438327332.53632\n",
      "--------------------------------------------------------------\n",
      "Accuracy of the network on the train images: 10.112 percent (5056/50000)\n",
      "--------------------------------------------------------------\n",
      "Accuracy of the network on the test images: 9.47 percent (947/10000)\n",
      "--------------------------------------------------------------\n"
     ]
    },
    {
     "name": "stderr",
     "output_type": "stream",
     "text": [
      "100%|██████████████████████████████████████████████████████████████████████████████| 3125/3125 [00:57<00:00, 53.99it/s]\n",
      "100%|███████████████████████████████████████████████████████████████████████████████| 625/625 [00:04<00:00, 125.66it/s]\n"
     ]
    },
    {
     "name": "stdout",
     "output_type": "stream",
     "text": [
      "--------------------------------------------------------------\n",
      "Epoch: 3\n",
      "--------------------------------------------------------------\n",
      "Trainig loss: 11726770417.99168\n",
      "--------------------------------------------------------------\n",
      "Accuracy of the network on the train images: 9.926 percent (4963/50000)\n",
      "--------------------------------------------------------------\n",
      "Accuracy of the network on the test images: 9.49 percent (949/10000)\n",
      "--------------------------------------------------------------\n"
     ]
    },
    {
     "name": "stderr",
     "output_type": "stream",
     "text": [
      "100%|██████████████████████████████████████████████████████████████████████████████| 3125/3125 [00:58<00:00, 53.14it/s]\n",
      "100%|███████████████████████████████████████████████████████████████████████████████| 625/625 [00:05<00:00, 117.66it/s]\n"
     ]
    },
    {
     "name": "stdout",
     "output_type": "stream",
     "text": [
      "--------------------------------------------------------------\n",
      "Epoch: 4\n",
      "--------------------------------------------------------------\n",
      "Trainig loss: 3177483773.1328\n",
      "--------------------------------------------------------------\n",
      "Accuracy of the network on the train images: 10.284 percent (5142/50000)\n",
      "--------------------------------------------------------------\n",
      "Accuracy of the network on the test images: 10.35 percent (1035/10000)\n",
      "--------------------------------------------------------------\n"
     ]
    },
    {
     "name": "stderr",
     "output_type": "stream",
     "text": [
      " 72%|████████████████████████████████████████████████████████▌                     | 2264/3125 [00:42<00:16, 53.29it/s]"
     ]
    }
   ],
   "source": [
    "bayesian_train_acc = []\n",
    "bayesian_val_acc = []\n",
    "var_list = []\n",
    "var_list = logger.get_logvariance(var_list)\n",
    "\n",
    "mu_list = []\n",
    "mu_list = logger.get_mean(mu_list)\n",
    "\n",
    "var_grads = []\n",
    "mean_grads = []\n",
    "\n",
    "\n",
    "for epoch in range(1, num_epochs + 1):\n",
    "    # keep track of training and validation loss\n",
    "    train_loss = 0.0\n",
    "    valid_loss = 0.0\n",
    "\n",
    "    m_train = math.ceil(len(train_data) / batch_size)\n",
    "    m_test= math.ceil(len(test_data) / batch_size)\n",
    "\n",
    "    net.train()\n",
    "\n",
    "    total = 0\n",
    "    correct = 0\n",
    "\n",
    "    for batch_idx, (data, target) in zip(tqdm(range(m_train)),(train_loader)):\n",
    "        # move tensors to GPU if CUDA is available\n",
    "        if use_cuda:\n",
    "            data, target = data.cuda(), target.cuda()\n",
    "        beta = 1/batch_size\n",
    "        optimizer.zero_grad()\n",
    "        # forward pass: compute predicted outputs by passing inputs to the model\n",
    "        output, kl = net.probforward(data)\n",
    "\n",
    "        _, predicted = torch.max(output.data, 1)\n",
    "        total += target.size(0)\n",
    "        correct += (predicted == target).sum().item()\n",
    "\n",
    "        # calculate the batch loss\n",
    "        loss = neg_elbo(output, target, kl, beta)\n",
    "        # backward pass: compute gradient of the loss with respect to model parameters\n",
    "        loss.backward()\n",
    "        # perform a single optimization step (parameter update)\n",
    "        optimizer.step()\n",
    "        # update training loss\n",
    "        train_loss += (loss.item() * data.size(0))\n",
    "\n",
    "    test_correct = 0\n",
    "    test_total = 0\n",
    "\n",
    "    with torch.no_grad():\n",
    "        for i, (test_input, test_target) in zip(tqdm(range(m_test)), test_loader):\n",
    "        # for (test_data, test_target) in test_loader:\n",
    "            test_input, test_target = test_input.cuda(), test_target.cuda()\n",
    "            test_outputs, kl = net.probforward(test_input)\n",
    "            _, test_predicted = torch.max(test_outputs.data, 1)\n",
    "            test_total += test_target.size(0)\n",
    "            test_correct += (test_predicted == test_target).sum().item()\n",
    "\n",
    "    train_loss = train_loss / len(train_loader.dataset)\n",
    "\n",
    "    bayesian_train_acc.append(correct / total)\n",
    "    bayesian_val_acc.append(test_correct/ test_total)\n",
    "    \n",
    "    var_list = logger.get_logvariance(var_list)\n",
    "    mu_list = logger.get_mean(mu_list)\n",
    "    mean_grads = logger.get_mean_gradients(mean_grads)\n",
    "    var_grads = logger.get_logvariance_gradients(var_grads)\n",
    "    \n",
    "        \n",
    "    \n",
    "    print('--------------------------------------------------------------')\n",
    "    print('Epoch:', epoch)\n",
    "    print('--------------------------------------------------------------')\n",
    "    print('Trainig loss:', train_loss)\n",
    "    print('--------------------------------------------------------------')\n",
    "    print('Accuracy of the network on the train images: {} percent ({}/{})'.format (\n",
    "            100 * correct / total, correct, total))\n",
    "    print('--------------------------------------------------------------')\n",
    "    try:\n",
    "        print('Accuracy of the network on the test images: {} percent ({}/{})'.format (\n",
    "                100 * test_correct/ test_total, test_correct,test_total))\n",
    "        print('--------------------------------------------------------------')\n",
    "    except:\n",
    "        pass\n",
    "            \n"
   ]
  },
  {
   "cell_type": "code",
   "execution_count": null,
   "metadata": {},
   "outputs": [],
   "source": [
    "figheight = 20\n",
    "figwidth = 35\n",
    "# fig, ax_array = plt.subplots(num_epochs, int(len(var_list)/num_epochs))\n",
    "fig = plt.figure()\n",
    "fig.set_figheight(figheight)\n",
    "fig.set_figwidth(figwidth)\n",
    "plt.subplots_adjust(hspace=2)\n",
    "for i in range(1, len(var_list)+1):\n",
    "    ax = fig.add_subplot(num_epochs+1, int(len(var_list)/(num_epochs+1)), i)\n",
    "    plt.hist(var_list[i-1], bins=100, range=(min(var_list[i-1]), max(var_list[i-1])))\n",
    "    plt.title('{}'.format(np.mean(var_list[i-1])))\n",
    "    if i-1 % int(len(var_list)/num_epochs) == 0:\n",
    "          plt.text(0.12, 0.92, \n",
    "                     bbox=dict(facecolor='white', boxstyle=\"round\"),\n",
    "                     horizontalalignment='center',\n",
    "                     verticalalignment='center',\n",
    "                     fontsize = 12,\n",
    "                     transform = ax.transAxes,\n",
    "                     s ='Variance: ')\n",
    "plt.savefig('Variance0.01.pdf')"
   ]
  },
  {
   "cell_type": "code",
   "execution_count": 10,
   "metadata": {
    "scrolled": false
   },
   "outputs": [
    {
     "data": {
      "image/png": "[encoded data removed]",
      "text/plain": [
       "<Figure size 2520x1440 with 24 Axes>"
      ]
     },
     "metadata": {
      "needs_background": "light"
     },
     "output_type": "display_data"
    }
   ],
   "source": [
    "figheight = 20\n",
    "figwidth = 35\n",
    "# fig, ax_array = plt.subplots(num_epochs, int(len(mu_list)/num_epochs))\n",
    "fig = plt.figure()\n",
    "fig.set_figheight(figheight)\n",
    "fig.set_figwidth(figwidth)\n",
    "plt.subplots_adjust(hspace=2)\n",
    "for i in range(1, len(mu_list)+1):\n",
    "    ax = fig.add_subplot(num_epochs+1, int(len(mu_list)/(num_epochs+1)), i)\n",
    "    plt.hist(mu_list[i-1], bins=100,)\n",
    "    plt.title('{}'.format(np.mean(mu_list[i-1])))\n",
    "    if i-1 % int(len(mu_list)/num_epochs) == 0:\n",
    "          plt.text(0.12, 0.92, \n",
    "                     bbox=dict(facecolor='white', boxstyle=\"round\"),\n",
    "                     horizontalalignment='center',\n",
    "                     verticalalignment='center',\n",
    "                     fontsize = 12,\n",
    "                     transform = ax.transAxes,\n",
    "                     s ='Mean: ')\n",
    "plt.savefig('Means.pdf')"
   ]
  },
  {
   "cell_type": "code",
   "execution_count": 10,
   "metadata": {},
   "outputs": [],
   "source": [
    "figheight = 20\n",
    "figwidth = 35\n",
    "\n",
    "fig = plt.figure()\n",
    "fig.set_figheight(figheight)\n",
    "fig.set_figwidth(figwidth)\n",
    "\n",
    "#adjust horizontal space between figures\n",
    "plt.subplots_adjust(hspace=2)\n",
    "\n",
    "\n",
    "for i in range(1, len(mean_grads)+1):\n",
    "    ax = fig.add_subplot(num_epochs, int(len(mean_grads)/(num_epochs)), i)\n",
    "    \n",
    "    # Histogram over network params\n",
    "    plt.hist(mean_grads[i-1], bins=100)\n",
    "    \n",
    "    # Set title of figures\n",
    "    plt.title('{}'.format(np.mean(mean_grads[i-1])))\n",
    "    \n",
    "    if i-1 % int(len(mean_grads)/num_epochs) == 0:\n",
    "          plt.text(0.12, 0.92, \n",
    "                     bbox=dict(facecolor='white', boxstyle=\"round\"),\n",
    "                     horizontalalignment='center',\n",
    "                     verticalalignment='center',\n",
    "                     fontsize = 12,\n",
    "                     transform = ax.transAxes,\n",
    "                     s ='Mean gradients: ')"
   ]
  },
  {
   "cell_type": "code",
   "execution_count": 11,
   "metadata": {},
   "outputs": [
    {
     "data": {
      "image/png": "[encoded data removed]",
      "text/plain": [
       "<Figure size 2520x1440 with 20 Axes>"
      ]
     },
     "metadata": {
      "needs_background": "light"
     },
     "output_type": "display_data"
    }
   ],
   "source": [
    "figheight = 20\n",
    "figwidth = 35\n",
    "\n",
    "fig = plt.figure()\n",
    "fig.set_figheight(figheight)\n",
    "fig.set_figwidth(figwidth)\n",
    "\n",
    "#adjust horizontal space between figures\n",
    "plt.subplots_adjust(hspace=2)\n",
    "\n",
    "\n",
    "for i in range(1, len(var_grads)+1):\n",
    "    ax = fig.add_subplot(num_epochs, int(len(var_grads)/(num_epochs)), i)\n",
    "    \n",
    "    # Histogram over network params\n",
    "    plt.hist(var_grads[i-1], bins=100)\n",
    "    \n",
    "    # Set title of figures\n",
    "#     plt.title('{}'.format(np.mean(var_grads[i-1])))\n",
    "    \n",
    "    if i-1 % int(len(var_grads)/num_epochs) == 0:\n",
    "          plt.text(0.12, 0.92, \n",
    "                     bbox=dict(facecolor='white', boxstyle=\"round\"),\n",
    "                     horizontalalignment='center',\n",
    "                     verticalalignment='center',\n",
    "                     fontsize = 12,\n",
    "                     transform = ax.transAxes,\n",
    "                     s ='Var gradients: ')"
   ]
  },
  {
   "cell_type": "code",
   "execution_count": 12,
   "metadata": {},
   "outputs": [
    {
     "data": {
      "text/plain": [
       "<matplotlib.legend.Legend at 0x21c8b6e54a8>"
      ]
     },
     "execution_count": 12,
     "metadata": {},
     "output_type": "execute_result"
    },
    {
     "data": {
      "image/png": "[encoded data removed]",
      "text/plain": [
       "<Figure size 432x288 with 1 Axes>"
      ]
     },
     "metadata": {
      "needs_background": "light"
     },
     "output_type": "display_data"
    }
   ],
   "source": [
    "f = plt.figure(0)\n",
    "plt.plot(range(len(bayesian_train_acc)),bayesian_train_acc)\n",
    "plt.plot(range(len(bayesian_val_acc)),bayesian_val_acc)\n",
    "plt.title('Bayesian NN')\n",
    "plt.xlabel('# Epochs')\n",
    "plt.ylabel('Accuracy (%)')\n",
    "plt.legend(('Train','Val'))\n",
    "# f.savefig('bayes_acc.pdf')\n"
   ]
  },
  {
   "cell_type": "markdown",
   "metadata": {},
   "source": [
    "# Frequentist Net"
   ]
  },
  {
   "cell_type": "code",
   "execution_count": 12,
   "metadata": {},
   "outputs": [],
   "source": [
    "frequentist_net = Net()\n",
    "\n",
    "if use_cuda:\n",
    "    frequentist_net.cuda()\n",
    "\n",
    "criterion=nn.CrossEntropyLoss()\n",
    "optimizer = optim.Adam(frequentist_net.parameters(), lr=learning_rate)"
   ]
  },
  {
   "cell_type": "code",
   "execution_count": 13,
   "metadata": {
    "scrolled": true
   },
   "outputs": [
    {
     "name": "stderr",
     "output_type": "stream",
     "text": [
      "100%|██████████████████████████████████████████████████████████████████████████████| 3125/3125 [00:34<00:00, 90.44it/s]\n",
      "100%|███████████████████████████████████████████████████████████████████████████████| 625/625 [00:02<00:00, 221.81it/s]\n"
     ]
    },
    {
     "name": "stdout",
     "output_type": "stream",
     "text": [
      "--------------------------------------------------------------\n",
      "Epoch: 1\n",
      "--------------------------------------------------------------\n",
      "Trainig loss: 1.5087161141204835\n",
      "--------------------------------------------------------------\n",
      "Accuracy of the network on the train images: 46.412 percent (23206/50000)\n",
      "--------------------------------------------------------------\n",
      "Accuracy of the network on the test images: 52.34 percent (5234/10000)\n",
      "--------------------------------------------------------------\n"
     ]
    },
    {
     "name": "stderr",
     "output_type": "stream",
     "text": [
      "100%|██████████████████████████████████████████████████████████████████████████████| 3125/3125 [00:37<00:00, 84.23it/s]\n",
      "100%|███████████████████████████████████████████████████████████████████████████████| 625/625 [00:02<00:00, 235.00it/s]\n"
     ]
    },
    {
     "name": "stdout",
     "output_type": "stream",
     "text": [
      "--------------------------------------------------------------\n",
      "Epoch: 2\n",
      "--------------------------------------------------------------\n",
      "Trainig loss: 1.2616316634368896\n",
      "--------------------------------------------------------------\n",
      "Accuracy of the network on the train images: 55.616 percent (27808/50000)\n",
      "--------------------------------------------------------------\n",
      "Accuracy of the network on the test images: 56.37 percent (5637/10000)\n",
      "--------------------------------------------------------------\n"
     ]
    },
    {
     "name": "stderr",
     "output_type": "stream",
     "text": [
      "100%|██████████████████████████████████████████████████████████████████████████████| 3125/3125 [00:34<00:00, 96.53it/s]\n",
      "100%|███████████████████████████████████████████████████████████████████████████████| 625/625 [00:02<00:00, 235.47it/s]\n"
     ]
    },
    {
     "name": "stdout",
     "output_type": "stream",
     "text": [
      "--------------------------------------------------------------\n",
      "Epoch: 3\n",
      "--------------------------------------------------------------\n",
      "Trainig loss: 1.1639540736579894\n",
      "--------------------------------------------------------------\n",
      "Accuracy of the network on the train images: 59.352 percent (29676/50000)\n",
      "--------------------------------------------------------------\n",
      "Accuracy of the network on the test images: 58.62 percent (5862/10000)\n",
      "--------------------------------------------------------------\n"
     ]
    },
    {
     "name": "stderr",
     "output_type": "stream",
     "text": [
      "100%|██████████████████████████████████████████████████████████████████████████████| 3125/3125 [00:32<00:00, 94.92it/s]\n",
      "100%|███████████████████████████████████████████████████████████████████████████████| 625/625 [00:02<00:00, 235.80it/s]\n"
     ]
    },
    {
     "name": "stdout",
     "output_type": "stream",
     "text": [
      "--------------------------------------------------------------\n",
      "Epoch: 4\n",
      "--------------------------------------------------------------\n",
      "Trainig loss: 1.0977509757614137\n",
      "--------------------------------------------------------------\n",
      "Accuracy of the network on the train images: 61.648 percent (30824/50000)\n",
      "--------------------------------------------------------------\n",
      "Accuracy of the network on the test images: 59.54 percent (5954/10000)\n",
      "--------------------------------------------------------------\n"
     ]
    },
    {
     "name": "stderr",
     "output_type": "stream",
     "text": [
      "100%|██████████████████████████████████████████████████████████████████████████████| 3125/3125 [00:32<00:00, 95.19it/s]\n",
      "100%|███████████████████████████████████████████████████████████████████████████████| 625/625 [00:02<00:00, 240.53it/s]\n"
     ]
    },
    {
     "name": "stdout",
     "output_type": "stream",
     "text": [
      "--------------------------------------------------------------\n",
      "Epoch: 5\n",
      "--------------------------------------------------------------\n",
      "Trainig loss: 1.0455710119628907\n",
      "--------------------------------------------------------------\n",
      "Accuracy of the network on the train images: 63.44 percent (31720/50000)\n",
      "--------------------------------------------------------------\n",
      "Accuracy of the network on the test images: 60.4 percent (6040/10000)\n",
      "--------------------------------------------------------------\n"
     ]
    },
    {
     "name": "stderr",
     "output_type": "stream",
     "text": [
      "100%|██████████████████████████████████████████████████████████████████████████████| 3125/3125 [00:33<00:00, 94.14it/s]\n",
      "100%|███████████████████████████████████████████████████████████████████████████████| 625/625 [00:02<00:00, 237.23it/s]\n"
     ]
    },
    {
     "name": "stdout",
     "output_type": "stream",
     "text": [
      "--------------------------------------------------------------\n",
      "Epoch: 6\n",
      "--------------------------------------------------------------\n",
      "Trainig loss: 1.0013337186431885\n",
      "--------------------------------------------------------------\n",
      "Accuracy of the network on the train images: 64.982 percent (32491/50000)\n",
      "--------------------------------------------------------------\n",
      "Accuracy of the network on the test images: 61.01 percent (6101/10000)\n",
      "--------------------------------------------------------------\n"
     ]
    },
    {
     "name": "stderr",
     "output_type": "stream",
     "text": [
      "100%|██████████████████████████████████████████████████████████████████████████████| 3125/3125 [00:34<00:00, 90.44it/s]\n",
      "100%|███████████████████████████████████████████████████████████████████████████████| 625/625 [00:02<00:00, 234.51it/s]\n"
     ]
    },
    {
     "name": "stdout",
     "output_type": "stream",
     "text": [
      "--------------------------------------------------------------\n",
      "Epoch: 7\n",
      "--------------------------------------------------------------\n",
      "Trainig loss: 0.9617972433948517\n",
      "--------------------------------------------------------------\n",
      "Accuracy of the network on the train images: 66.596 percent (33298/50000)\n",
      "--------------------------------------------------------------\n",
      "Accuracy of the network on the test images: 61.39 percent (6139/10000)\n",
      "--------------------------------------------------------------\n"
     ]
    },
    {
     "name": "stderr",
     "output_type": "stream",
     "text": [
      "100%|██████████████████████████████████████████████████████████████████████████████| 3125/3125 [00:34<00:00, 89.54it/s]\n",
      "100%|███████████████████████████████████████████████████████████████████████████████| 625/625 [00:02<00:00, 224.92it/s]\n"
     ]
    },
    {
     "name": "stdout",
     "output_type": "stream",
     "text": [
      "--------------------------------------------------------------\n",
      "Epoch: 8\n",
      "--------------------------------------------------------------\n",
      "Trainig loss: 0.9257338355064392\n",
      "--------------------------------------------------------------\n",
      "Accuracy of the network on the train images: 67.862 percent (33931/50000)\n",
      "--------------------------------------------------------------\n",
      "Accuracy of the network on the test images: 61.69 percent (6169/10000)\n",
      "--------------------------------------------------------------\n"
     ]
    },
    {
     "name": "stderr",
     "output_type": "stream",
     "text": [
      "100%|██████████████████████████████████████████████████████████████████████████████| 3125/3125 [00:34<00:00, 89.57it/s]\n",
      "100%|███████████████████████████████████████████████████████████████████████████████| 625/625 [00:02<00:00, 240.93it/s]\n"
     ]
    },
    {
     "name": "stdout",
     "output_type": "stream",
     "text": [
      "--------------------------------------------------------------\n",
      "Epoch: 9\n",
      "--------------------------------------------------------------\n",
      "Trainig loss: 0.8927027137184143\n",
      "--------------------------------------------------------------\n",
      "Accuracy of the network on the train images: 69.15 percent (34575/50000)\n",
      "--------------------------------------------------------------\n",
      "Accuracy of the network on the test images: 62.17 percent (6217/10000)\n",
      "--------------------------------------------------------------\n"
     ]
    },
    {
     "name": "stderr",
     "output_type": "stream",
     "text": [
      "100%|██████████████████████████████████████████████████████████████████████████████| 3125/3125 [00:34<00:00, 89.95it/s]\n",
      "100%|███████████████████████████████████████████████████████████████████████████████| 625/625 [00:02<00:00, 238.53it/s]\n"
     ]
    },
    {
     "name": "stdout",
     "output_type": "stream",
     "text": [
      "--------------------------------------------------------------\n",
      "Epoch: 10\n",
      "--------------------------------------------------------------\n",
      "Trainig loss: 0.8616509060955048\n",
      "--------------------------------------------------------------\n",
      "Accuracy of the network on the train images: 70.28 percent (35140/50000)\n",
      "--------------------------------------------------------------\n",
      "Accuracy of the network on the test images: 62.28 percent (6228/10000)\n",
      "--------------------------------------------------------------\n"
     ]
    },
    {
     "name": "stderr",
     "output_type": "stream",
     "text": [
      "100%|██████████████████████████████████████████████████████████████████████████████| 3125/3125 [00:34<00:00, 90.74it/s]\n",
      "100%|███████████████████████████████████████████████████████████████████████████████| 625/625 [00:02<00:00, 231.94it/s]\n"
     ]
    },
    {
     "name": "stdout",
     "output_type": "stream",
     "text": [
      "--------------------------------------------------------------\n",
      "Epoch: 11\n",
      "--------------------------------------------------------------\n",
      "Trainig loss: 0.8321639412689209\n",
      "--------------------------------------------------------------\n",
      "Accuracy of the network on the train images: 71.348 percent (35674/50000)\n",
      "--------------------------------------------------------------\n",
      "Accuracy of the network on the test images: 62.24 percent (6224/10000)\n",
      "--------------------------------------------------------------\n"
     ]
    },
    {
     "name": "stderr",
     "output_type": "stream",
     "text": [
      "100%|██████████████████████████████████████████████████████████████████████████████| 3125/3125 [00:34<00:00, 90.37it/s]\n",
      "100%|███████████████████████████████████████████████████████████████████████████████| 625/625 [00:02<00:00, 229.26it/s]\n"
     ]
    },
    {
     "name": "stdout",
     "output_type": "stream",
     "text": [
      "--------------------------------------------------------------\n",
      "Epoch: 12\n",
      "--------------------------------------------------------------\n",
      "Trainig loss: 0.8039835689115524\n",
      "--------------------------------------------------------------\n",
      "Accuracy of the network on the train images: 72.426 percent (36213/50000)\n",
      "--------------------------------------------------------------\n",
      "Accuracy of the network on the test images: 62.3 percent (6230/10000)\n",
      "--------------------------------------------------------------\n"
     ]
    },
    {
     "name": "stderr",
     "output_type": "stream",
     "text": [
      "100%|██████████████████████████████████████████████████████████████████████████████| 3125/3125 [00:34<00:00, 90.40it/s]\n",
      "100%|███████████████████████████████████████████████████████████████████████████████| 625/625 [00:02<00:00, 238.84it/s]\n"
     ]
    },
    {
     "name": "stdout",
     "output_type": "stream",
     "text": [
      "--------------------------------------------------------------\n",
      "Epoch: 13\n",
      "--------------------------------------------------------------\n",
      "Trainig loss: 0.7773325348949433\n",
      "--------------------------------------------------------------\n",
      "Accuracy of the network on the train images: 73.258 percent (36629/50000)\n",
      "--------------------------------------------------------------\n",
      "Accuracy of the network on the test images: 62.15 percent (6215/10000)\n",
      "--------------------------------------------------------------\n"
     ]
    },
    {
     "name": "stderr",
     "output_type": "stream",
     "text": [
      "100%|██████████████████████████████████████████████████████████████████████████████| 3125/3125 [00:35<00:00, 88.60it/s]\n",
      "100%|███████████████████████████████████████████████████████████████████████████████| 625/625 [00:02<00:00, 238.77it/s]\n"
     ]
    },
    {
     "name": "stdout",
     "output_type": "stream",
     "text": [
      "--------------------------------------------------------------\n",
      "Epoch: 14\n",
      "--------------------------------------------------------------\n",
      "Trainig loss: 0.7515695217561722\n",
      "--------------------------------------------------------------\n",
      "Accuracy of the network on the train images: 74.264 percent (37132/50000)\n",
      "--------------------------------------------------------------\n",
      "Accuracy of the network on the test images: 62.02 percent (6202/10000)\n",
      "--------------------------------------------------------------\n"
     ]
    },
    {
     "name": "stderr",
     "output_type": "stream",
     "text": [
      "100%|██████████████████████████████████████████████████████████████████████████████| 3125/3125 [00:34<00:00, 89.59it/s]\n",
      "100%|███████████████████████████████████████████████████████████████████████████████| 625/625 [00:02<00:00, 236.07it/s]\n"
     ]
    },
    {
     "name": "stdout",
     "output_type": "stream",
     "text": [
      "--------------------------------------------------------------\n",
      "Epoch: 15\n",
      "--------------------------------------------------------------\n",
      "Trainig loss: 0.7267774165439606\n",
      "--------------------------------------------------------------\n",
      "Accuracy of the network on the train images: 75.256 percent (37628/50000)\n",
      "--------------------------------------------------------------\n",
      "Accuracy of the network on the test images: 62.0 percent (6200/10000)\n",
      "--------------------------------------------------------------\n"
     ]
    },
    {
     "name": "stderr",
     "output_type": "stream",
     "text": [
      "100%|██████████████████████████████████████████████████████████████████████████████| 3125/3125 [00:34<00:00, 90.11it/s]\n",
      "100%|███████████████████████████████████████████████████████████████████████████████| 625/625 [00:02<00:00, 243.36it/s]\n"
     ]
    },
    {
     "name": "stdout",
     "output_type": "stream",
     "text": [
      "--------------------------------------------------------------\n",
      "Epoch: 16\n",
      "--------------------------------------------------------------\n",
      "Trainig loss: 0.7027296014499664\n",
      "--------------------------------------------------------------\n",
      "Accuracy of the network on the train images: 76.176 percent (38088/50000)\n",
      "--------------------------------------------------------------\n",
      "Accuracy of the network on the test images: 61.77 percent (6177/10000)\n",
      "--------------------------------------------------------------\n"
     ]
    },
    {
     "name": "stderr",
     "output_type": "stream",
     "text": [
      "100%|██████████████████████████████████████████████████████████████████████████████| 3125/3125 [00:34<00:00, 89.73it/s]\n",
      "100%|███████████████████████████████████████████████████████████████████████████████| 625/625 [00:02<00:00, 240.81it/s]\n"
     ]
    },
    {
     "name": "stdout",
     "output_type": "stream",
     "text": [
      "--------------------------------------------------------------\n",
      "Epoch: 17\n",
      "--------------------------------------------------------------\n",
      "Trainig loss: 0.6796528350067139\n",
      "--------------------------------------------------------------\n",
      "Accuracy of the network on the train images: 77.016 percent (38508/50000)\n",
      "--------------------------------------------------------------\n",
      "Accuracy of the network on the test images: 61.53 percent (6153/10000)\n",
      "--------------------------------------------------------------\n"
     ]
    },
    {
     "name": "stderr",
     "output_type": "stream",
     "text": [
      "100%|██████████████████████████████████████████████████████████████████████████████| 3125/3125 [00:34<00:00, 90.71it/s]\n",
      "100%|███████████████████████████████████████████████████████████████████████████████| 625/625 [00:02<00:00, 234.07it/s]\n"
     ]
    },
    {
     "name": "stdout",
     "output_type": "stream",
     "text": [
      "--------------------------------------------------------------\n",
      "Epoch: 18\n",
      "--------------------------------------------------------------\n",
      "Trainig loss: 0.6575990484523773\n",
      "--------------------------------------------------------------\n",
      "Accuracy of the network on the train images: 77.92 percent (38960/50000)\n",
      "--------------------------------------------------------------\n",
      "Accuracy of the network on the test images: 61.08 percent (6108/10000)\n",
      "--------------------------------------------------------------\n"
     ]
    },
    {
     "name": "stderr",
     "output_type": "stream",
     "text": [
      "100%|██████████████████████████████████████████████████████████████████████████████| 3125/3125 [00:34<00:00, 90.37it/s]\n",
      "100%|███████████████████████████████████████████████████████████████████████████████| 625/625 [00:02<00:00, 234.67it/s]\n"
     ]
    },
    {
     "name": "stdout",
     "output_type": "stream",
     "text": [
      "--------------------------------------------------------------\n",
      "Epoch: 19\n",
      "--------------------------------------------------------------\n",
      "Trainig loss: 0.6364533742046357\n",
      "--------------------------------------------------------------\n",
      "Accuracy of the network on the train images: 78.61 percent (39305/50000)\n",
      "--------------------------------------------------------------\n",
      "Accuracy of the network on the test images: 60.58 percent (6058/10000)\n",
      "--------------------------------------------------------------\n"
     ]
    },
    {
     "name": "stderr",
     "output_type": "stream",
     "text": [
      "100%|██████████████████████████████████████████████████████████████████████████████| 3125/3125 [00:34<00:00, 90.01it/s]\n",
      "100%|███████████████████████████████████████████████████████████████████████████████| 625/625 [00:02<00:00, 234.49it/s]\n"
     ]
    },
    {
     "name": "stdout",
     "output_type": "stream",
     "text": [
      "--------------------------------------------------------------\n",
      "Epoch: 20\n",
      "--------------------------------------------------------------\n",
      "Trainig loss: 0.6162155209755897\n",
      "--------------------------------------------------------------\n",
      "Accuracy of the network on the train images: 79.368 percent (39684/50000)\n",
      "--------------------------------------------------------------\n",
      "Accuracy of the network on the test images: 60.35 percent (6035/10000)\n",
      "--------------------------------------------------------------\n"
     ]
    },
    {
     "name": "stderr",
     "output_type": "stream",
     "text": [
      "100%|██████████████████████████████████████████████████████████████████████████████| 3125/3125 [00:34<00:00, 90.61it/s]\n",
      "100%|███████████████████████████████████████████████████████████████████████████████| 625/625 [00:02<00:00, 237.38it/s]\n"
     ]
    },
    {
     "name": "stdout",
     "output_type": "stream",
     "text": [
      "--------------------------------------------------------------\n",
      "Epoch: 21\n",
      "--------------------------------------------------------------\n",
      "Trainig loss: 0.5969029162740708\n",
      "--------------------------------------------------------------\n",
      "Accuracy of the network on the train images: 80.058 percent (40029/50000)\n",
      "--------------------------------------------------------------\n",
      "Accuracy of the network on the test images: 59.98 percent (5998/10000)\n",
      "--------------------------------------------------------------\n"
     ]
    },
    {
     "name": "stderr",
     "output_type": "stream",
     "text": [
      "100%|██████████████████████████████████████████████████████████████████████████████| 3125/3125 [00:34<00:00, 90.54it/s]\n",
      "100%|███████████████████████████████████████████████████████████████████████████████| 625/625 [00:02<00:00, 234.38it/s]\n"
     ]
    },
    {
     "name": "stdout",
     "output_type": "stream",
     "text": [
      "--------------------------------------------------------------\n",
      "Epoch: 22\n",
      "--------------------------------------------------------------\n",
      "Trainig loss: 0.5784505459117889\n",
      "--------------------------------------------------------------\n",
      "Accuracy of the network on the train images: 80.74 percent (40370/50000)\n",
      "--------------------------------------------------------------\n",
      "Accuracy of the network on the test images: 59.54 percent (5954/10000)\n",
      "--------------------------------------------------------------\n"
     ]
    },
    {
     "name": "stderr",
     "output_type": "stream",
     "text": [
      "100%|██████████████████████████████████████████████████████████████████████████████| 3125/3125 [00:34<00:00, 89.83it/s]\n",
      "100%|███████████████████████████████████████████████████████████████████████████████| 625/625 [00:02<00:00, 231.94it/s]\n"
     ]
    },
    {
     "name": "stdout",
     "output_type": "stream",
     "text": [
      "--------------------------------------------------------------\n",
      "Epoch: 23\n",
      "--------------------------------------------------------------\n",
      "Trainig loss: 0.5605719611811638\n",
      "--------------------------------------------------------------\n",
      "Accuracy of the network on the train images: 81.352 percent (40676/50000)\n",
      "--------------------------------------------------------------\n",
      "Accuracy of the network on the test images: 58.99 percent (5899/10000)\n",
      "--------------------------------------------------------------\n"
     ]
    },
    {
     "name": "stderr",
     "output_type": "stream",
     "text": [
      "100%|██████████████████████████████████████████████████████████████████████████████| 3125/3125 [00:34<00:00, 94.75it/s]\n",
      "100%|███████████████████████████████████████████████████████████████████████████████| 625/625 [00:02<00:00, 234.08it/s]\n"
     ]
    },
    {
     "name": "stdout",
     "output_type": "stream",
     "text": [
      "--------------------------------------------------------------\n",
      "Epoch: 24\n",
      "--------------------------------------------------------------\n",
      "Trainig loss: 0.5434029938268662\n",
      "--------------------------------------------------------------\n",
      "Accuracy of the network on the train images: 81.91 percent (40955/50000)\n",
      "--------------------------------------------------------------\n",
      "Accuracy of the network on the test images: 58.78 percent (5878/10000)\n",
      "--------------------------------------------------------------\n"
     ]
    },
    {
     "name": "stderr",
     "output_type": "stream",
     "text": [
      "100%|██████████████████████████████████████████████████████████████████████████████| 3125/3125 [00:34<00:00, 90.44it/s]\n",
      "100%|███████████████████████████████████████████████████████████████████████████████| 625/625 [00:02<00:00, 241.64it/s]\n"
     ]
    },
    {
     "name": "stdout",
     "output_type": "stream",
     "text": [
      "--------------------------------------------------------------\n",
      "Epoch: 25\n",
      "--------------------------------------------------------------\n",
      "Trainig loss: 0.5268688450336456\n",
      "--------------------------------------------------------------\n",
      "Accuracy of the network on the train images: 82.558 percent (41279/50000)\n",
      "--------------------------------------------------------------\n",
      "Accuracy of the network on the test images: 58.56 percent (5856/10000)\n",
      "--------------------------------------------------------------\n"
     ]
    },
    {
     "name": "stderr",
     "output_type": "stream",
     "text": [
      "100%|██████████████████████████████████████████████████████████████████████████████| 3125/3125 [00:34<00:00, 90.24it/s]\n",
      "100%|███████████████████████████████████████████████████████████████████████████████| 625/625 [00:02<00:00, 238.22it/s]\n"
     ]
    },
    {
     "name": "stdout",
     "output_type": "stream",
     "text": [
      "--------------------------------------------------------------\n",
      "Epoch: 26\n",
      "--------------------------------------------------------------\n",
      "Trainig loss: 0.5106508036470413\n",
      "--------------------------------------------------------------\n",
      "Accuracy of the network on the train images: 83.276 percent (41638/50000)\n",
      "--------------------------------------------------------------\n",
      "Accuracy of the network on the test images: 58.32 percent (5832/10000)\n",
      "--------------------------------------------------------------\n"
     ]
    },
    {
     "name": "stderr",
     "output_type": "stream",
     "text": [
      "100%|██████████████████████████████████████████████████████████████████████████████| 3125/3125 [00:34<00:00, 90.95it/s]\n",
      "100%|███████████████████████████████████████████████████████████████████████████████| 625/625 [00:02<00:00, 237.09it/s]\n"
     ]
    },
    {
     "name": "stdout",
     "output_type": "stream",
     "text": [
      "--------------------------------------------------------------\n",
      "Epoch: 27\n",
      "--------------------------------------------------------------\n",
      "Trainig loss: 0.4949160781240463\n",
      "--------------------------------------------------------------\n",
      "Accuracy of the network on the train images: 83.92 percent (41960/50000)\n",
      "--------------------------------------------------------------\n",
      "Accuracy of the network on the test images: 58.02 percent (5802/10000)\n",
      "--------------------------------------------------------------\n"
     ]
    },
    {
     "name": "stderr",
     "output_type": "stream",
     "text": [
      "100%|██████████████████████████████████████████████████████████████████████████████| 3125/3125 [00:34<00:00, 91.24it/s]\n",
      "100%|███████████████████████████████████████████████████████████████████████████████| 625/625 [00:02<00:00, 242.96it/s]\n"
     ]
    },
    {
     "name": "stdout",
     "output_type": "stream",
     "text": [
      "--------------------------------------------------------------\n",
      "Epoch: 28\n",
      "--------------------------------------------------------------\n",
      "Trainig loss: 0.47970912331104276\n",
      "--------------------------------------------------------------\n",
      "Accuracy of the network on the train images: 84.5 percent (42250/50000)\n",
      "--------------------------------------------------------------\n",
      "Accuracy of the network on the test images: 57.91 percent (5791/10000)\n",
      "--------------------------------------------------------------\n"
     ]
    },
    {
     "name": "stderr",
     "output_type": "stream",
     "text": [
      "100%|██████████████████████████████████████████████████████████████████████████████| 3125/3125 [00:34<00:00, 90.47it/s]\n",
      "100%|███████████████████████████████████████████████████████████████████████████████| 625/625 [00:02<00:00, 238.89it/s]\n"
     ]
    },
    {
     "name": "stdout",
     "output_type": "stream",
     "text": [
      "--------------------------------------------------------------\n",
      "Epoch: 29\n",
      "--------------------------------------------------------------\n",
      "Trainig loss: 0.4649038713932037\n",
      "--------------------------------------------------------------\n",
      "Accuracy of the network on the train images: 85.086 percent (42543/50000)\n",
      "--------------------------------------------------------------\n",
      "Accuracy of the network on the test images: 57.86 percent (5786/10000)\n",
      "--------------------------------------------------------------\n"
     ]
    },
    {
     "name": "stderr",
     "output_type": "stream",
     "text": [
      "100%|██████████████████████████████████████████████████████████████████████████████| 3125/3125 [00:34<00:00, 89.88it/s]\n",
      "100%|███████████████████████████████████████████████████████████████████████████████| 625/625 [00:02<00:00, 242.99it/s]\n"
     ]
    },
    {
     "name": "stdout",
     "output_type": "stream",
     "text": [
      "--------------------------------------------------------------\n",
      "Epoch: 30\n",
      "--------------------------------------------------------------\n",
      "Trainig loss: 0.4505363691544533\n",
      "--------------------------------------------------------------\n",
      "Accuracy of the network on the train images: 85.756 percent (42878/50000)\n",
      "--------------------------------------------------------------\n",
      "Accuracy of the network on the test images: 57.61 percent (5761/10000)\n",
      "--------------------------------------------------------------\n"
     ]
    },
    {
     "name": "stderr",
     "output_type": "stream",
     "text": [
      "100%|██████████████████████████████████████████████████████████████████████████████| 3125/3125 [00:34<00:00, 90.18it/s]\n",
      "100%|███████████████████████████████████████████████████████████████████████████████| 625/625 [00:02<00:00, 240.71it/s]\n"
     ]
    },
    {
     "name": "stdout",
     "output_type": "stream",
     "text": [
      "--------------------------------------------------------------\n",
      "Epoch: 31\n",
      "--------------------------------------------------------------\n",
      "Trainig loss: 0.43653943688988683\n",
      "--------------------------------------------------------------\n",
      "Accuracy of the network on the train images: 86.306 percent (43153/50000)\n",
      "--------------------------------------------------------------\n",
      "Accuracy of the network on the test images: 57.56 percent (5756/10000)\n",
      "--------------------------------------------------------------\n"
     ]
    },
    {
     "name": "stderr",
     "output_type": "stream",
     "text": [
      "100%|██████████████████████████████████████████████████████████████████████████████| 3125/3125 [00:34<00:00, 90.21it/s]\n",
      "100%|███████████████████████████████████████████████████████████████████████████████| 625/625 [00:02<00:00, 239.88it/s]\n"
     ]
    },
    {
     "name": "stdout",
     "output_type": "stream",
     "text": [
      "--------------------------------------------------------------\n",
      "Epoch: 32\n",
      "--------------------------------------------------------------\n",
      "Trainig loss: 0.4230645467853546\n",
      "--------------------------------------------------------------\n",
      "Accuracy of the network on the train images: 86.83 percent (43415/50000)\n",
      "--------------------------------------------------------------\n",
      "Accuracy of the network on the test images: 57.43 percent (5743/10000)\n",
      "--------------------------------------------------------------\n"
     ]
    },
    {
     "name": "stderr",
     "output_type": "stream",
     "text": [
      "100%|██████████████████████████████████████████████████████████████████████████████| 3125/3125 [00:34<00:00, 90.97it/s]\n",
      "100%|███████████████████████████████████████████████████████████████████████████████| 625/625 [00:02<00:00, 236.77it/s]\n"
     ]
    },
    {
     "name": "stdout",
     "output_type": "stream",
     "text": [
      "--------------------------------------------------------------\n",
      "Epoch: 33\n",
      "--------------------------------------------------------------\n",
      "Trainig loss: 0.4098296307873726\n",
      "--------------------------------------------------------------\n",
      "Accuracy of the network on the train images: 87.312 percent (43656/50000)\n",
      "--------------------------------------------------------------\n",
      "Accuracy of the network on the test images: 57.31 percent (5731/10000)\n",
      "--------------------------------------------------------------\n"
     ]
    },
    {
     "name": "stderr",
     "output_type": "stream",
     "text": [
      "100%|██████████████████████████████████████████████████████████████████████████████| 3125/3125 [00:34<00:00, 91.45it/s]\n",
      "100%|███████████████████████████████████████████████████████████████████████████████| 625/625 [00:02<00:00, 239.08it/s]\n"
     ]
    },
    {
     "name": "stdout",
     "output_type": "stream",
     "text": [
      "--------------------------------------------------------------\n",
      "Epoch: 34\n",
      "--------------------------------------------------------------\n",
      "Trainig loss: 0.3971489736175537\n",
      "--------------------------------------------------------------\n",
      "Accuracy of the network on the train images: 87.692 percent (43846/50000)\n",
      "--------------------------------------------------------------\n",
      "Accuracy of the network on the test images: 57.31 percent (5731/10000)\n",
      "--------------------------------------------------------------\n"
     ]
    },
    {
     "name": "stderr",
     "output_type": "stream",
     "text": [
      "100%|██████████████████████████████████████████████████████████████████████████████| 3125/3125 [00:34<00:00, 89.80it/s]\n",
      "100%|███████████████████████████████████████████████████████████████████████████████| 625/625 [00:02<00:00, 239.46it/s]\n"
     ]
    },
    {
     "name": "stdout",
     "output_type": "stream",
     "text": [
      "--------------------------------------------------------------\n",
      "Epoch: 35\n",
      "--------------------------------------------------------------\n",
      "Trainig loss: 0.38443379987835885\n",
      "--------------------------------------------------------------\n",
      "Accuracy of the network on the train images: 88.136 percent (44068/50000)\n",
      "--------------------------------------------------------------\n",
      "Accuracy of the network on the test images: 57.29 percent (5729/10000)\n",
      "--------------------------------------------------------------\n"
     ]
    },
    {
     "name": "stderr",
     "output_type": "stream",
     "text": [
      "100%|██████████████████████████████████████████████████████████████████████████████| 3125/3125 [00:35<00:00, 89.00it/s]\n",
      "100%|███████████████████████████████████████████████████████████████████████████████| 625/625 [00:02<00:00, 235.57it/s]\n"
     ]
    },
    {
     "name": "stdout",
     "output_type": "stream",
     "text": [
      "--------------------------------------------------------------\n",
      "Epoch: 36\n",
      "--------------------------------------------------------------\n",
      "Trainig loss: 0.3727234226155281\n",
      "--------------------------------------------------------------\n",
      "Accuracy of the network on the train images: 88.6 percent (44300/50000)\n",
      "--------------------------------------------------------------\n",
      "Accuracy of the network on the test images: 56.91 percent (5691/10000)\n",
      "--------------------------------------------------------------\n"
     ]
    },
    {
     "name": "stderr",
     "output_type": "stream",
     "text": [
      "100%|██████████████████████████████████████████████████████████████████████████████| 3125/3125 [00:34<00:00, 90.17it/s]\n",
      "100%|███████████████████████████████████████████████████████████████████████████████| 625/625 [00:02<00:00, 227.70it/s]\n"
     ]
    },
    {
     "name": "stdout",
     "output_type": "stream",
     "text": [
      "--------------------------------------------------------------\n",
      "Epoch: 37\n",
      "--------------------------------------------------------------\n",
      "Trainig loss: 0.3606402672767639\n",
      "--------------------------------------------------------------\n",
      "Accuracy of the network on the train images: 89.024 percent (44512/50000)\n",
      "--------------------------------------------------------------\n",
      "Accuracy of the network on the test images: 56.78 percent (5678/10000)\n",
      "--------------------------------------------------------------\n"
     ]
    },
    {
     "name": "stderr",
     "output_type": "stream",
     "text": [
      "100%|██████████████████████████████████████████████████████████████████████████████| 3125/3125 [00:34<00:00, 91.65it/s]\n",
      "100%|███████████████████████████████████████████████████████████████████████████████| 625/625 [00:02<00:00, 233.00it/s]\n"
     ]
    },
    {
     "name": "stdout",
     "output_type": "stream",
     "text": [
      "--------------------------------------------------------------\n",
      "Epoch: 38\n",
      "--------------------------------------------------------------\n",
      "Trainig loss: 0.35019702093720434\n",
      "--------------------------------------------------------------\n",
      "Accuracy of the network on the train images: 89.334 percent (44667/50000)\n",
      "--------------------------------------------------------------\n",
      "Accuracy of the network on the test images: 56.44 percent (5644/10000)\n",
      "--------------------------------------------------------------\n"
     ]
    },
    {
     "name": "stderr",
     "output_type": "stream",
     "text": [
      "100%|██████████████████████████████████████████████████████████████████████████████| 3125/3125 [00:35<00:00, 89.24it/s]\n",
      "100%|███████████████████████████████████████████████████████████████████████████████| 625/625 [00:02<00:00, 230.52it/s]\n"
     ]
    },
    {
     "name": "stdout",
     "output_type": "stream",
     "text": [
      "--------------------------------------------------------------\n",
      "Epoch: 39\n",
      "--------------------------------------------------------------\n",
      "Trainig loss: 0.3407819080066681\n",
      "--------------------------------------------------------------\n",
      "Accuracy of the network on the train images: 89.37 percent (44685/50000)\n",
      "--------------------------------------------------------------\n",
      "Accuracy of the network on the test images: 56.68 percent (5668/10000)\n",
      "--------------------------------------------------------------\n"
     ]
    },
    {
     "name": "stderr",
     "output_type": "stream",
     "text": [
      "100%|██████████████████████████████████████████████████████████████████████████████| 3125/3125 [00:35<00:00, 89.22it/s]\n",
      "100%|███████████████████████████████████████████████████████████████████████████████| 625/625 [00:02<00:00, 234.62it/s]\n"
     ]
    },
    {
     "name": "stdout",
     "output_type": "stream",
     "text": [
      "--------------------------------------------------------------\n",
      "Epoch: 40\n",
      "--------------------------------------------------------------\n",
      "Trainig loss: 0.33561245451867583\n",
      "--------------------------------------------------------------\n",
      "Accuracy of the network on the train images: 89.278 percent (44639/50000)\n",
      "--------------------------------------------------------------\n",
      "Accuracy of the network on the test images: 56.37 percent (5637/10000)\n",
      "--------------------------------------------------------------\n"
     ]
    },
    {
     "name": "stderr",
     "output_type": "stream",
     "text": [
      "100%|██████████████████████████████████████████████████████████████████████████████| 3125/3125 [00:34<00:00, 89.94it/s]\n",
      "100%|███████████████████████████████████████████████████████████████████████████████| 625/625 [00:02<00:00, 240.85it/s]\n"
     ]
    },
    {
     "name": "stdout",
     "output_type": "stream",
     "text": [
      "--------------------------------------------------------------\n",
      "Epoch: 41\n",
      "--------------------------------------------------------------\n",
      "Trainig loss: 0.3250207518720627\n",
      "--------------------------------------------------------------\n",
      "Accuracy of the network on the train images: 89.572 percent (44786/50000)\n",
      "--------------------------------------------------------------\n",
      "Accuracy of the network on the test images: 56.12 percent (5612/10000)\n",
      "--------------------------------------------------------------\n"
     ]
    },
    {
     "name": "stderr",
     "output_type": "stream",
     "text": [
      "100%|██████████████████████████████████████████████████████████████████████████████| 3125/3125 [00:34<00:00, 89.18it/s]\n",
      "100%|███████████████████████████████████████████████████████████████████████████████| 625/625 [00:02<00:00, 237.10it/s]\n"
     ]
    },
    {
     "name": "stdout",
     "output_type": "stream",
     "text": [
      "--------------------------------------------------------------\n",
      "Epoch: 42\n",
      "--------------------------------------------------------------\n",
      "Trainig loss: 0.3167478872054815\n",
      "--------------------------------------------------------------\n",
      "Accuracy of the network on the train images: 89.85 percent (44925/50000)\n",
      "--------------------------------------------------------------\n",
      "Accuracy of the network on the test images: 55.95 percent (5595/10000)\n",
      "--------------------------------------------------------------\n"
     ]
    },
    {
     "name": "stderr",
     "output_type": "stream",
     "text": [
      "100%|██████████████████████████████████████████████████████████████████████████████| 3125/3125 [00:34<00:00, 90.81it/s]\n",
      "100%|███████████████████████████████████████████████████████████████████████████████| 625/625 [00:02<00:00, 231.56it/s]\n"
     ]
    },
    {
     "name": "stdout",
     "output_type": "stream",
     "text": [
      "--------------------------------------------------------------\n",
      "Epoch: 43\n",
      "--------------------------------------------------------------\n",
      "Trainig loss: 0.3083062143671513\n",
      "--------------------------------------------------------------\n",
      "Accuracy of the network on the train images: 90.132 percent (45066/50000)\n",
      "--------------------------------------------------------------\n",
      "Accuracy of the network on the test images: 56.15 percent (5615/10000)\n",
      "--------------------------------------------------------------\n"
     ]
    },
    {
     "name": "stderr",
     "output_type": "stream",
     "text": [
      "100%|██████████████████████████████████████████████████████████████████████████████| 3125/3125 [00:34<00:00, 89.09it/s]\n",
      "100%|███████████████████████████████████████████████████████████████████████████████| 625/625 [00:02<00:00, 242.64it/s]\n"
     ]
    },
    {
     "name": "stdout",
     "output_type": "stream",
     "text": [
      "--------------------------------------------------------------\n",
      "Epoch: 44\n",
      "--------------------------------------------------------------\n",
      "Trainig loss: 0.3026913505965471\n",
      "--------------------------------------------------------------\n",
      "Accuracy of the network on the train images: 90.13 percent (45065/50000)\n",
      "--------------------------------------------------------------\n",
      "Accuracy of the network on the test images: 55.81 percent (5581/10000)\n",
      "--------------------------------------------------------------\n"
     ]
    },
    {
     "name": "stderr",
     "output_type": "stream",
     "text": [
      "100%|██████████████████████████████████████████████████████████████████████████████| 3125/3125 [00:34<00:00, 89.72it/s]\n",
      "100%|███████████████████████████████████████████████████████████████████████████████| 625/625 [00:02<00:00, 235.82it/s]\n"
     ]
    },
    {
     "name": "stdout",
     "output_type": "stream",
     "text": [
      "--------------------------------------------------------------\n",
      "Epoch: 45\n",
      "--------------------------------------------------------------\n",
      "Trainig loss: 0.2961608308684826\n",
      "--------------------------------------------------------------\n",
      "Accuracy of the network on the train images: 90.204 percent (45102/50000)\n",
      "--------------------------------------------------------------\n",
      "Accuracy of the network on the test images: 55.76 percent (5576/10000)\n",
      "--------------------------------------------------------------\n"
     ]
    },
    {
     "name": "stderr",
     "output_type": "stream",
     "text": [
      "100%|██████████████████████████████████████████████████████████████████████████████| 3125/3125 [00:34<00:00, 91.32it/s]\n",
      "100%|███████████████████████████████████████████████████████████████████████████████| 625/625 [00:02<00:00, 235.58it/s]\n"
     ]
    },
    {
     "name": "stdout",
     "output_type": "stream",
     "text": [
      "--------------------------------------------------------------\n",
      "Epoch: 46\n",
      "--------------------------------------------------------------\n",
      "Trainig loss: 0.28618160652667285\n",
      "--------------------------------------------------------------\n",
      "Accuracy of the network on the train images: 90.512 percent (45256/50000)\n",
      "--------------------------------------------------------------\n",
      "Accuracy of the network on the test images: 55.7 percent (5570/10000)\n",
      "--------------------------------------------------------------\n"
     ]
    },
    {
     "name": "stderr",
     "output_type": "stream",
     "text": [
      "100%|██████████████████████████████████████████████████████████████████████████████| 3125/3125 [00:34<00:00, 90.12it/s]\n",
      "100%|███████████████████████████████████████████████████████████████████████████████| 625/625 [00:02<00:00, 235.87it/s]\n"
     ]
    },
    {
     "name": "stdout",
     "output_type": "stream",
     "text": [
      "--------------------------------------------------------------\n",
      "Epoch: 47\n",
      "--------------------------------------------------------------\n",
      "Trainig loss: 0.2822409404337406\n",
      "--------------------------------------------------------------\n",
      "Accuracy of the network on the train images: 90.738 percent (45369/50000)\n",
      "--------------------------------------------------------------\n",
      "Accuracy of the network on the test images: 55.53 percent (5553/10000)\n",
      "--------------------------------------------------------------\n"
     ]
    },
    {
     "name": "stderr",
     "output_type": "stream",
     "text": [
      "100%|██████████████████████████████████████████████████████████████████████████████| 3125/3125 [00:34<00:00, 90.59it/s]\n",
      "100%|███████████████████████████████████████████████████████████████████████████████| 625/625 [00:02<00:00, 241.60it/s]\n"
     ]
    },
    {
     "name": "stdout",
     "output_type": "stream",
     "text": [
      "--------------------------------------------------------------\n",
      "Epoch: 48\n",
      "--------------------------------------------------------------\n",
      "Trainig loss: 0.2717503101927042\n",
      "--------------------------------------------------------------\n",
      "Accuracy of the network on the train images: 90.98 percent (45490/50000)\n",
      "--------------------------------------------------------------\n",
      "Accuracy of the network on the test images: 55.48 percent (5548/10000)\n",
      "--------------------------------------------------------------\n"
     ]
    },
    {
     "name": "stderr",
     "output_type": "stream",
     "text": [
      "100%|██████████████████████████████████████████████████████████████████████████████| 3125/3125 [00:34<00:00, 90.06it/s]\n",
      "100%|███████████████████████████████████████████████████████████████████████████████| 625/625 [00:02<00:00, 230.43it/s]\n"
     ]
    },
    {
     "name": "stdout",
     "output_type": "stream",
     "text": [
      "--------------------------------------------------------------\n",
      "Epoch: 49\n",
      "--------------------------------------------------------------\n",
      "Trainig loss: 0.2667122294804454\n",
      "--------------------------------------------------------------\n",
      "Accuracy of the network on the train images: 91.224 percent (45612/50000)\n",
      "--------------------------------------------------------------\n",
      "Accuracy of the network on the test images: 55.37 percent (5537/10000)\n",
      "--------------------------------------------------------------\n"
     ]
    },
    {
     "name": "stderr",
     "output_type": "stream",
     "text": [
      "100%|██████████████████████████████████████████████████████████████████████████████| 3125/3125 [00:34<00:00, 90.60it/s]\n",
      "100%|███████████████████████████████████████████████████████████████████████████████| 625/625 [00:02<00:00, 240.33it/s]\n"
     ]
    },
    {
     "name": "stdout",
     "output_type": "stream",
     "text": [
      "--------------------------------------------------------------\n",
      "Epoch: 50\n",
      "--------------------------------------------------------------\n",
      "Trainig loss: 0.2637896868154406\n",
      "--------------------------------------------------------------\n",
      "Accuracy of the network on the train images: 91.158 percent (45579/50000)\n",
      "--------------------------------------------------------------\n",
      "Accuracy of the network on the test images: 55.77 percent (5577/10000)\n",
      "--------------------------------------------------------------\n"
     ]
    },
    {
     "name": "stderr",
     "output_type": "stream",
     "text": [
      "100%|██████████████████████████████████████████████████████████████████████████████| 3125/3125 [00:34<00:00, 90.21it/s]\n",
      "100%|███████████████████████████████████████████████████████████████████████████████| 625/625 [00:02<00:00, 240.09it/s]\n"
     ]
    },
    {
     "name": "stdout",
     "output_type": "stream",
     "text": [
      "--------------------------------------------------------------\n",
      "Epoch: 51\n",
      "--------------------------------------------------------------\n",
      "Trainig loss: 0.2556023065909743\n",
      "--------------------------------------------------------------\n",
      "Accuracy of the network on the train images: 91.452 percent (45726/50000)\n",
      "--------------------------------------------------------------\n",
      "Accuracy of the network on the test images: 55.75 percent (5575/10000)\n",
      "--------------------------------------------------------------\n"
     ]
    },
    {
     "name": "stderr",
     "output_type": "stream",
     "text": [
      "100%|██████████████████████████████████████████████████████████████████████████████| 3125/3125 [00:34<00:00, 90.19it/s]\n",
      "100%|███████████████████████████████████████████████████████████████████████████████| 625/625 [00:02<00:00, 248.19it/s]\n"
     ]
    },
    {
     "name": "stdout",
     "output_type": "stream",
     "text": [
      "--------------------------------------------------------------\n",
      "Epoch: 52\n",
      "--------------------------------------------------------------\n",
      "Trainig loss: 0.24780317880034447\n",
      "--------------------------------------------------------------\n",
      "Accuracy of the network on the train images: 91.698 percent (45849/50000)\n",
      "--------------------------------------------------------------\n",
      "Accuracy of the network on the test images: 55.86 percent (5586/10000)\n",
      "--------------------------------------------------------------\n"
     ]
    },
    {
     "name": "stderr",
     "output_type": "stream",
     "text": [
      "100%|██████████████████████████████████████████████████████████████████████████████| 3125/3125 [00:34<00:00, 89.97it/s]\n",
      "100%|███████████████████████████████████████████████████████████████████████████████| 625/625 [00:02<00:00, 237.89it/s]\n"
     ]
    },
    {
     "name": "stdout",
     "output_type": "stream",
     "text": [
      "--------------------------------------------------------------\n",
      "Epoch: 53\n",
      "--------------------------------------------------------------\n",
      "Trainig loss: 0.24570366340816022\n",
      "--------------------------------------------------------------\n",
      "Accuracy of the network on the train images: 91.672 percent (45836/50000)\n",
      "--------------------------------------------------------------\n",
      "Accuracy of the network on the test images: 55.43 percent (5543/10000)\n",
      "--------------------------------------------------------------\n"
     ]
    },
    {
     "name": "stderr",
     "output_type": "stream",
     "text": [
      "100%|██████████████████████████████████████████████████████████████████████████████| 3125/3125 [00:34<00:00, 90.26it/s]\n",
      "100%|███████████████████████████████████████████████████████████████████████████████| 625/625 [00:02<00:00, 237.89it/s]\n"
     ]
    },
    {
     "name": "stdout",
     "output_type": "stream",
     "text": [
      "--------------------------------------------------------------\n",
      "Epoch: 54\n",
      "--------------------------------------------------------------\n",
      "Trainig loss: 0.23955066188275814\n",
      "--------------------------------------------------------------\n",
      "Accuracy of the network on the train images: 91.926 percent (45963/50000)\n",
      "--------------------------------------------------------------\n",
      "Accuracy of the network on the test images: 55.77 percent (5577/10000)\n",
      "--------------------------------------------------------------\n"
     ]
    },
    {
     "name": "stderr",
     "output_type": "stream",
     "text": [
      "100%|██████████████████████████████████████████████████████████████████████████████| 3125/3125 [00:34<00:00, 89.30it/s]\n",
      "100%|███████████████████████████████████████████████████████████████████████████████| 625/625 [00:02<00:00, 237.15it/s]\n"
     ]
    },
    {
     "name": "stdout",
     "output_type": "stream",
     "text": [
      "--------------------------------------------------------------\n",
      "Epoch: 55\n",
      "--------------------------------------------------------------\n",
      "Trainig loss: 0.23420851009607316\n",
      "--------------------------------------------------------------\n",
      "Accuracy of the network on the train images: 92.09 percent (46045/50000)\n",
      "--------------------------------------------------------------\n",
      "Accuracy of the network on the test images: 55.22 percent (5522/10000)\n",
      "--------------------------------------------------------------\n"
     ]
    },
    {
     "name": "stderr",
     "output_type": "stream",
     "text": [
      "100%|██████████████████████████████████████████████████████████████████████████████| 3125/3125 [00:34<00:00, 89.31it/s]\n",
      "100%|███████████████████████████████████████████████████████████████████████████████| 625/625 [00:02<00:00, 239.24it/s]\n"
     ]
    },
    {
     "name": "stdout",
     "output_type": "stream",
     "text": [
      "--------------------------------------------------------------\n",
      "Epoch: 56\n",
      "--------------------------------------------------------------\n",
      "Trainig loss: 0.23089638569414617\n",
      "--------------------------------------------------------------\n",
      "Accuracy of the network on the train images: 92.06 percent (46030/50000)\n",
      "--------------------------------------------------------------\n",
      "Accuracy of the network on the test images: 55.73 percent (5573/10000)\n",
      "--------------------------------------------------------------\n"
     ]
    },
    {
     "name": "stderr",
     "output_type": "stream",
     "text": [
      "100%|██████████████████████████████████████████████████████████████████████████████| 3125/3125 [00:34<00:00, 90.23it/s]\n",
      "100%|███████████████████████████████████████████████████████████████████████████████| 625/625 [00:02<00:00, 235.48it/s]\n"
     ]
    },
    {
     "name": "stdout",
     "output_type": "stream",
     "text": [
      "--------------------------------------------------------------\n",
      "Epoch: 57\n",
      "--------------------------------------------------------------\n",
      "Trainig loss: 0.22398201677381993\n",
      "--------------------------------------------------------------\n",
      "Accuracy of the network on the train images: 92.256 percent (46128/50000)\n",
      "--------------------------------------------------------------\n",
      "Accuracy of the network on the test images: 55.99 percent (5599/10000)\n",
      "--------------------------------------------------------------\n"
     ]
    },
    {
     "name": "stderr",
     "output_type": "stream",
     "text": [
      "100%|██████████████████████████████████████████████████████████████████████████████| 3125/3125 [00:34<00:00, 90.07it/s]\n",
      "100%|███████████████████████████████████████████████████████████████████████████████| 625/625 [00:02<00:00, 237.61it/s]\n"
     ]
    },
    {
     "name": "stdout",
     "output_type": "stream",
     "text": [
      "--------------------------------------------------------------\n",
      "Epoch: 58\n",
      "--------------------------------------------------------------\n",
      "Trainig loss: 0.21814597694337368\n",
      "--------------------------------------------------------------\n",
      "Accuracy of the network on the train images: 92.576 percent (46288/50000)\n",
      "--------------------------------------------------------------\n",
      "Accuracy of the network on the test images: 56.08 percent (5608/10000)\n",
      "--------------------------------------------------------------\n"
     ]
    },
    {
     "name": "stderr",
     "output_type": "stream",
     "text": [
      "100%|██████████████████████████████████████████████████████████████████████████████| 3125/3125 [00:34<00:00, 90.72it/s]\n",
      "100%|███████████████████████████████████████████████████████████████████████████████| 625/625 [00:02<00:00, 238.78it/s]\n"
     ]
    },
    {
     "name": "stdout",
     "output_type": "stream",
     "text": [
      "--------------------------------------------------------------\n",
      "Epoch: 59\n",
      "--------------------------------------------------------------\n",
      "Trainig loss: 0.21523440629929305\n",
      "--------------------------------------------------------------\n",
      "Accuracy of the network on the train images: 92.682 percent (46341/50000)\n",
      "--------------------------------------------------------------\n",
      "Accuracy of the network on the test images: 55.68 percent (5568/10000)\n",
      "--------------------------------------------------------------\n"
     ]
    },
    {
     "name": "stderr",
     "output_type": "stream",
     "text": [
      "100%|██████████████████████████████████████████████████████████████████████████████| 3125/3125 [00:34<00:00, 89.91it/s]\n",
      "100%|███████████████████████████████████████████████████████████████████████████████| 625/625 [00:02<00:00, 237.76it/s]\n"
     ]
    },
    {
     "name": "stdout",
     "output_type": "stream",
     "text": [
      "--------------------------------------------------------------\n",
      "Epoch: 60\n",
      "--------------------------------------------------------------\n",
      "Trainig loss: 0.20854584975659848\n",
      "--------------------------------------------------------------\n",
      "Accuracy of the network on the train images: 92.858 percent (46429/50000)\n",
      "--------------------------------------------------------------\n",
      "Accuracy of the network on the test images: 55.62 percent (5562/10000)\n",
      "--------------------------------------------------------------\n"
     ]
    },
    {
     "name": "stderr",
     "output_type": "stream",
     "text": [
      "100%|██████████████████████████████████████████████████████████████████████████████| 3125/3125 [00:34<00:00, 89.77it/s]\n",
      "100%|███████████████████████████████████████████████████████████████████████████████| 625/625 [00:02<00:00, 239.23it/s]\n"
     ]
    },
    {
     "name": "stdout",
     "output_type": "stream",
     "text": [
      "--------------------------------------------------------------\n",
      "Epoch: 61\n",
      "--------------------------------------------------------------\n",
      "Trainig loss: 0.20752463586628436\n",
      "--------------------------------------------------------------\n",
      "Accuracy of the network on the train images: 92.752 percent (46376/50000)\n",
      "--------------------------------------------------------------\n",
      "Accuracy of the network on the test images: 55.56 percent (5556/10000)\n",
      "--------------------------------------------------------------\n"
     ]
    },
    {
     "name": "stderr",
     "output_type": "stream",
     "text": [
      "100%|██████████████████████████████████████████████████████████████████████████████| 3125/3125 [00:34<00:00, 90.20it/s]\n",
      "100%|███████████████████████████████████████████████████████████████████████████████| 625/625 [00:02<00:00, 242.72it/s]\n"
     ]
    },
    {
     "name": "stdout",
     "output_type": "stream",
     "text": [
      "--------------------------------------------------------------\n",
      "Epoch: 62\n",
      "--------------------------------------------------------------\n",
      "Trainig loss: 0.2039038735845685\n",
      "--------------------------------------------------------------\n",
      "Accuracy of the network on the train images: 92.934 percent (46467/50000)\n",
      "--------------------------------------------------------------\n",
      "Accuracy of the network on the test images: 55.72 percent (5572/10000)\n",
      "--------------------------------------------------------------\n"
     ]
    },
    {
     "name": "stderr",
     "output_type": "stream",
     "text": [
      "100%|██████████████████████████████████████████████████████████████████████████████| 3125/3125 [00:34<00:00, 89.89it/s]\n",
      "100%|███████████████████████████████████████████████████████████████████████████████| 625/625 [00:02<00:00, 213.96it/s]\n"
     ]
    },
    {
     "name": "stdout",
     "output_type": "stream",
     "text": [
      "--------------------------------------------------------------\n",
      "Epoch: 63\n",
      "--------------------------------------------------------------\n",
      "Trainig loss: 0.19665600509881973\n",
      "--------------------------------------------------------------\n",
      "Accuracy of the network on the train images: 93.214 percent (46607/50000)\n",
      "--------------------------------------------------------------\n",
      "Accuracy of the network on the test images: 55.56 percent (5556/10000)\n",
      "--------------------------------------------------------------\n"
     ]
    },
    {
     "name": "stderr",
     "output_type": "stream",
     "text": [
      "100%|██████████████████████████████████████████████████████████████████████████████| 3125/3125 [00:34<00:00, 89.85it/s]\n",
      "100%|███████████████████████████████████████████████████████████████████████████████| 625/625 [00:02<00:00, 226.65it/s]\n"
     ]
    },
    {
     "name": "stdout",
     "output_type": "stream",
     "text": [
      "--------------------------------------------------------------\n",
      "Epoch: 64\n",
      "--------------------------------------------------------------\n",
      "Trainig loss: 0.1935566525286436\n",
      "--------------------------------------------------------------\n",
      "Accuracy of the network on the train images: 93.338 percent (46669/50000)\n",
      "--------------------------------------------------------------\n",
      "Accuracy of the network on the test images: 55.74 percent (5574/10000)\n",
      "--------------------------------------------------------------\n"
     ]
    },
    {
     "name": "stderr",
     "output_type": "stream",
     "text": [
      "100%|██████████████████████████████████████████████████████████████████████████████| 3125/3125 [00:35<00:00, 88.74it/s]\n",
      "100%|███████████████████████████████████████████████████████████████████████████████| 625/625 [00:02<00:00, 236.99it/s]\n"
     ]
    },
    {
     "name": "stdout",
     "output_type": "stream",
     "text": [
      "--------------------------------------------------------------\n",
      "Epoch: 65\n",
      "--------------------------------------------------------------\n",
      "Trainig loss: 0.18901491441965104\n",
      "--------------------------------------------------------------\n",
      "Accuracy of the network on the train images: 93.442 percent (46721/50000)\n",
      "--------------------------------------------------------------\n",
      "Accuracy of the network on the test images: 55.8 percent (5580/10000)\n",
      "--------------------------------------------------------------\n"
     ]
    },
    {
     "name": "stderr",
     "output_type": "stream",
     "text": [
      "100%|██████████████████████████████████████████████████████████████████████████████| 3125/3125 [00:35<00:00, 89.04it/s]\n",
      "100%|███████████████████████████████████████████████████████████████████████████████| 625/625 [00:02<00:00, 232.52it/s]\n"
     ]
    },
    {
     "name": "stdout",
     "output_type": "stream",
     "text": [
      "--------------------------------------------------------------\n",
      "Epoch: 66\n",
      "--------------------------------------------------------------\n",
      "Trainig loss: 0.19014007891625165\n",
      "--------------------------------------------------------------\n",
      "Accuracy of the network on the train images: 93.294 percent (46647/50000)\n",
      "--------------------------------------------------------------\n",
      "Accuracy of the network on the test images: 55.47 percent (5547/10000)\n",
      "--------------------------------------------------------------\n"
     ]
    },
    {
     "name": "stderr",
     "output_type": "stream",
     "text": [
      "100%|██████████████████████████████████████████████████████████████████████████████| 3125/3125 [00:34<00:00, 90.04it/s]\n",
      "100%|███████████████████████████████████████████████████████████████████████████████| 625/625 [00:02<00:00, 245.81it/s]\n"
     ]
    },
    {
     "name": "stdout",
     "output_type": "stream",
     "text": [
      "--------------------------------------------------------------\n",
      "Epoch: 67\n",
      "--------------------------------------------------------------\n",
      "Trainig loss: 0.18361637078911067\n",
      "--------------------------------------------------------------\n",
      "Accuracy of the network on the train images: 93.654 percent (46827/50000)\n",
      "--------------------------------------------------------------\n",
      "Accuracy of the network on the test images: 55.49 percent (5549/10000)\n",
      "--------------------------------------------------------------\n"
     ]
    },
    {
     "name": "stderr",
     "output_type": "stream",
     "text": [
      "100%|██████████████████████████████████████████████████████████████████████████████| 3125/3125 [00:34<00:00, 89.83it/s]\n",
      "100%|███████████████████████████████████████████████████████████████████████████████| 625/625 [00:02<00:00, 233.31it/s]\n"
     ]
    },
    {
     "name": "stdout",
     "output_type": "stream",
     "text": [
      "--------------------------------------------------------------\n",
      "Epoch: 68\n",
      "--------------------------------------------------------------\n",
      "Trainig loss: 0.18088804828166963\n",
      "--------------------------------------------------------------\n",
      "Accuracy of the network on the train images: 93.628 percent (46814/50000)\n",
      "--------------------------------------------------------------\n",
      "Accuracy of the network on the test images: 55.59 percent (5559/10000)\n",
      "--------------------------------------------------------------\n"
     ]
    },
    {
     "name": "stderr",
     "output_type": "stream",
     "text": [
      "100%|██████████████████████████████████████████████████████████████████████████████| 3125/3125 [00:34<00:00, 91.27it/s]\n",
      "100%|███████████████████████████████████████████████████████████████████████████████| 625/625 [00:02<00:00, 234.84it/s]\n"
     ]
    },
    {
     "name": "stdout",
     "output_type": "stream",
     "text": [
      "--------------------------------------------------------------\n",
      "Epoch: 69\n",
      "--------------------------------------------------------------\n",
      "Trainig loss: 0.17749934213683008\n",
      "--------------------------------------------------------------\n",
      "Accuracy of the network on the train images: 93.734 percent (46867/50000)\n",
      "--------------------------------------------------------------\n",
      "Accuracy of the network on the test images: 55.69 percent (5569/10000)\n",
      "--------------------------------------------------------------\n"
     ]
    },
    {
     "name": "stderr",
     "output_type": "stream",
     "text": [
      "100%|██████████████████████████████████████████████████████████████████████████████| 3125/3125 [00:34<00:00, 90.06it/s]\n",
      "100%|███████████████████████████████████████████████████████████████████████████████| 625/625 [00:02<00:00, 231.18it/s]\n"
     ]
    },
    {
     "name": "stdout",
     "output_type": "stream",
     "text": [
      "--------------------------------------------------------------\n",
      "Epoch: 70\n",
      "--------------------------------------------------------------\n",
      "Trainig loss: 0.17298495583981274\n",
      "--------------------------------------------------------------\n",
      "Accuracy of the network on the train images: 93.952 percent (46976/50000)\n",
      "--------------------------------------------------------------\n",
      "Accuracy of the network on the test images: 55.86 percent (5586/10000)\n",
      "--------------------------------------------------------------\n"
     ]
    },
    {
     "name": "stderr",
     "output_type": "stream",
     "text": [
      "100%|██████████████████████████████████████████████████████████████████████████████| 3125/3125 [00:34<00:00, 90.37it/s]\n",
      "100%|███████████████████████████████████████████████████████████████████████████████| 625/625 [00:02<00:00, 235.69it/s]\n"
     ]
    },
    {
     "name": "stdout",
     "output_type": "stream",
     "text": [
      "--------------------------------------------------------------\n",
      "Epoch: 71\n",
      "--------------------------------------------------------------\n",
      "Trainig loss: 0.170038932287693\n",
      "--------------------------------------------------------------\n",
      "Accuracy of the network on the train images: 93.896 percent (46948/50000)\n",
      "--------------------------------------------------------------\n",
      "Accuracy of the network on the test images: 55.42 percent (5542/10000)\n",
      "--------------------------------------------------------------\n"
     ]
    },
    {
     "name": "stderr",
     "output_type": "stream",
     "text": [
      "100%|██████████████████████████████████████████████████████████████████████████████| 3125/3125 [00:34<00:00, 89.31it/s]\n",
      "100%|███████████████████████████████████████████████████████████████████████████████| 625/625 [00:02<00:00, 216.30it/s]\n"
     ]
    },
    {
     "name": "stdout",
     "output_type": "stream",
     "text": [
      "--------------------------------------------------------------\n",
      "Epoch: 72\n",
      "--------------------------------------------------------------\n",
      "Trainig loss: 0.16781624018847943\n",
      "--------------------------------------------------------------\n",
      "Accuracy of the network on the train images: 94.022 percent (47011/50000)\n",
      "--------------------------------------------------------------\n",
      "Accuracy of the network on the test images: 55.67 percent (5567/10000)\n",
      "--------------------------------------------------------------\n"
     ]
    },
    {
     "name": "stderr",
     "output_type": "stream",
     "text": [
      "100%|██████████████████████████████████████████████████████████████████████████████| 3125/3125 [00:34<00:00, 90.43it/s]\n",
      "100%|███████████████████████████████████████████████████████████████████████████████| 625/625 [00:02<00:00, 238.58it/s]\n"
     ]
    },
    {
     "name": "stdout",
     "output_type": "stream",
     "text": [
      "--------------------------------------------------------------\n",
      "Epoch: 73\n",
      "--------------------------------------------------------------\n",
      "Trainig loss: 0.16292379127144813\n",
      "--------------------------------------------------------------\n",
      "Accuracy of the network on the train images: 94.158 percent (47079/50000)\n",
      "--------------------------------------------------------------\n",
      "Accuracy of the network on the test images: 55.54 percent (5554/10000)\n",
      "--------------------------------------------------------------\n"
     ]
    },
    {
     "name": "stderr",
     "output_type": "stream",
     "text": [
      "100%|██████████████████████████████████████████████████████████████████████████████| 3125/3125 [00:34<00:00, 89.91it/s]\n",
      "100%|███████████████████████████████████████████████████████████████████████████████| 625/625 [00:02<00:00, 235.64it/s]\n"
     ]
    },
    {
     "name": "stdout",
     "output_type": "stream",
     "text": [
      "--------------------------------------------------------------\n",
      "Epoch: 74\n",
      "--------------------------------------------------------------\n",
      "Trainig loss: 0.15971046094581484\n",
      "--------------------------------------------------------------\n",
      "Accuracy of the network on the train images: 94.292 percent (47146/50000)\n",
      "--------------------------------------------------------------\n",
      "Accuracy of the network on the test images: 55.44 percent (5544/10000)\n",
      "--------------------------------------------------------------\n"
     ]
    },
    {
     "name": "stderr",
     "output_type": "stream",
     "text": [
      "100%|██████████████████████████████████████████████████████████████████████████████| 3125/3125 [00:34<00:00, 89.38it/s]\n",
      "100%|███████████████████████████████████████████████████████████████████████████████| 625/625 [00:02<00:00, 234.43it/s]\n"
     ]
    },
    {
     "name": "stdout",
     "output_type": "stream",
     "text": [
      "--------------------------------------------------------------\n",
      "Epoch: 75\n",
      "--------------------------------------------------------------\n",
      "Trainig loss: 0.15626968073785305\n",
      "--------------------------------------------------------------\n",
      "Accuracy of the network on the train images: 94.43 percent (47215/50000)\n",
      "--------------------------------------------------------------\n",
      "Accuracy of the network on the test images: 55.69 percent (5569/10000)\n",
      "--------------------------------------------------------------\n"
     ]
    },
    {
     "name": "stderr",
     "output_type": "stream",
     "text": [
      "100%|██████████████████████████████████████████████████████████████████████████████| 3125/3125 [00:34<00:00, 90.13it/s]\n",
      "100%|███████████████████████████████████████████████████████████████████████████████| 625/625 [00:02<00:00, 239.07it/s]\n"
     ]
    },
    {
     "name": "stdout",
     "output_type": "stream",
     "text": [
      "--------------------------------------------------------------\n",
      "Epoch: 76\n",
      "--------------------------------------------------------------\n",
      "Trainig loss: 0.15795968294113874\n",
      "--------------------------------------------------------------\n",
      "Accuracy of the network on the train images: 94.398 percent (47199/50000)\n",
      "--------------------------------------------------------------\n",
      "Accuracy of the network on the test images: 55.35 percent (5535/10000)\n",
      "--------------------------------------------------------------\n"
     ]
    },
    {
     "name": "stderr",
     "output_type": "stream",
     "text": [
      "100%|██████████████████████████████████████████████████████████████████████████████| 3125/3125 [00:34<00:00, 90.47it/s]\n",
      "100%|███████████████████████████████████████████████████████████████████████████████| 625/625 [00:02<00:00, 237.98it/s]\n"
     ]
    },
    {
     "name": "stdout",
     "output_type": "stream",
     "text": [
      "--------------------------------------------------------------\n",
      "Epoch: 77\n",
      "--------------------------------------------------------------\n",
      "Trainig loss: 0.14977947658061982\n",
      "--------------------------------------------------------------\n",
      "Accuracy of the network on the train images: 94.63 percent (47315/50000)\n",
      "--------------------------------------------------------------\n",
      "Accuracy of the network on the test images: 55.03 percent (5503/10000)\n",
      "--------------------------------------------------------------\n"
     ]
    },
    {
     "name": "stderr",
     "output_type": "stream",
     "text": [
      "100%|██████████████████████████████████████████████████████████████████████████████| 3125/3125 [00:34<00:00, 89.60it/s]\n",
      "100%|███████████████████████████████████████████████████████████████████████████████| 625/625 [00:02<00:00, 245.47it/s]\n"
     ]
    },
    {
     "name": "stdout",
     "output_type": "stream",
     "text": [
      "--------------------------------------------------------------\n",
      "Epoch: 78\n",
      "--------------------------------------------------------------\n",
      "Trainig loss: 0.14975905200749637\n",
      "--------------------------------------------------------------\n",
      "Accuracy of the network on the train images: 94.616 percent (47308/50000)\n",
      "--------------------------------------------------------------\n",
      "Accuracy of the network on the test images: 55.04 percent (5504/10000)\n",
      "--------------------------------------------------------------\n"
     ]
    },
    {
     "name": "stderr",
     "output_type": "stream",
     "text": [
      "100%|██████████████████████████████████████████████████████████████████████████████| 3125/3125 [00:34<00:00, 90.51it/s]\n",
      "100%|███████████████████████████████████████████████████████████████████████████████| 625/625 [00:02<00:00, 239.51it/s]\n"
     ]
    },
    {
     "name": "stdout",
     "output_type": "stream",
     "text": [
      "--------------------------------------------------------------\n",
      "Epoch: 79\n",
      "--------------------------------------------------------------\n",
      "Trainig loss: 0.14869029695495964\n",
      "--------------------------------------------------------------\n",
      "Accuracy of the network on the train images: 94.796 percent (47398/50000)\n",
      "--------------------------------------------------------------\n",
      "Accuracy of the network on the test images: 55.21 percent (5521/10000)\n",
      "--------------------------------------------------------------\n"
     ]
    },
    {
     "name": "stderr",
     "output_type": "stream",
     "text": [
      "100%|██████████████████████████████████████████████████████████████████████████████| 3125/3125 [00:34<00:00, 90.07it/s]\n",
      "100%|███████████████████████████████████████████████████████████████████████████████| 625/625 [00:02<00:00, 241.12it/s]\n"
     ]
    },
    {
     "name": "stdout",
     "output_type": "stream",
     "text": [
      "--------------------------------------------------------------\n",
      "Epoch: 80\n",
      "--------------------------------------------------------------\n",
      "Trainig loss: 0.14776781408786774\n",
      "--------------------------------------------------------------\n",
      "Accuracy of the network on the train images: 94.734 percent (47367/50000)\n",
      "--------------------------------------------------------------\n",
      "Accuracy of the network on the test images: 54.78 percent (5478/10000)\n",
      "--------------------------------------------------------------\n"
     ]
    },
    {
     "name": "stderr",
     "output_type": "stream",
     "text": [
      "100%|██████████████████████████████████████████████████████████████████████████████| 3125/3125 [00:34<00:00, 90.33it/s]\n",
      "100%|███████████████████████████████████████████████████████████████████████████████| 625/625 [00:02<00:00, 237.08it/s]\n"
     ]
    },
    {
     "name": "stdout",
     "output_type": "stream",
     "text": [
      "--------------------------------------------------------------\n",
      "Epoch: 81\n",
      "--------------------------------------------------------------\n",
      "Trainig loss: 0.1444180309472978\n",
      "--------------------------------------------------------------\n",
      "Accuracy of the network on the train images: 94.872 percent (47436/50000)\n",
      "--------------------------------------------------------------\n",
      "Accuracy of the network on the test images: 54.98 percent (5498/10000)\n",
      "--------------------------------------------------------------\n"
     ]
    },
    {
     "name": "stderr",
     "output_type": "stream",
     "text": [
      "100%|██████████████████████████████████████████████████████████████████████████████| 3125/3125 [00:34<00:00, 90.28it/s]\n",
      "100%|███████████████████████████████████████████████████████████████████████████████| 625/625 [00:02<00:00, 237.20it/s]\n"
     ]
    },
    {
     "name": "stdout",
     "output_type": "stream",
     "text": [
      "--------------------------------------------------------------\n",
      "Epoch: 82\n",
      "--------------------------------------------------------------\n",
      "Trainig loss: 0.14231686744362115\n",
      "--------------------------------------------------------------\n",
      "Accuracy of the network on the train images: 95.01 percent (47505/50000)\n",
      "--------------------------------------------------------------\n",
      "Accuracy of the network on the test images: 55.22 percent (5522/10000)\n",
      "--------------------------------------------------------------\n"
     ]
    },
    {
     "name": "stderr",
     "output_type": "stream",
     "text": [
      "100%|██████████████████████████████████████████████████████████████████████████████| 3125/3125 [00:34<00:00, 89.70it/s]\n",
      "100%|███████████████████████████████████████████████████████████████████████████████| 625/625 [00:02<00:00, 241.53it/s]\n"
     ]
    },
    {
     "name": "stdout",
     "output_type": "stream",
     "text": [
      "--------------------------------------------------------------\n",
      "Epoch: 83\n",
      "--------------------------------------------------------------\n",
      "Trainig loss: 0.13462273783117532\n",
      "--------------------------------------------------------------\n",
      "Accuracy of the network on the train images: 95.25 percent (47625/50000)\n",
      "--------------------------------------------------------------\n",
      "Accuracy of the network on the test images: 54.73 percent (5473/10000)\n",
      "--------------------------------------------------------------\n"
     ]
    },
    {
     "name": "stderr",
     "output_type": "stream",
     "text": [
      "100%|██████████████████████████████████████████████████████████████████████████████| 3125/3125 [00:34<00:00, 89.86it/s]\n",
      "100%|███████████████████████████████████████████████████████████████████████████████| 625/625 [00:02<00:00, 229.90it/s]\n"
     ]
    },
    {
     "name": "stdout",
     "output_type": "stream",
     "text": [
      "--------------------------------------------------------------\n",
      "Epoch: 84\n",
      "--------------------------------------------------------------\n",
      "Trainig loss: 0.13839841389507054\n",
      "--------------------------------------------------------------\n",
      "Accuracy of the network on the train images: 95.072 percent (47536/50000)\n",
      "--------------------------------------------------------------\n",
      "Accuracy of the network on the test images: 55.15 percent (5515/10000)\n",
      "--------------------------------------------------------------\n"
     ]
    },
    {
     "name": "stderr",
     "output_type": "stream",
     "text": [
      "100%|██████████████████████████████████████████████████████████████████████████████| 3125/3125 [00:34<00:00, 89.42it/s]\n",
      "100%|███████████████████████████████████████████████████████████████████████████████| 625/625 [00:02<00:00, 240.06it/s]\n"
     ]
    },
    {
     "name": "stdout",
     "output_type": "stream",
     "text": [
      "--------------------------------------------------------------\n",
      "Epoch: 85\n",
      "--------------------------------------------------------------\n",
      "Trainig loss: 0.13192982293248176\n",
      "--------------------------------------------------------------\n",
      "Accuracy of the network on the train images: 95.356 percent (47678/50000)\n",
      "--------------------------------------------------------------\n",
      "Accuracy of the network on the test images: 55.47 percent (5547/10000)\n",
      "--------------------------------------------------------------\n"
     ]
    },
    {
     "name": "stderr",
     "output_type": "stream",
     "text": [
      "100%|██████████████████████████████████████████████████████████████████████████████| 3125/3125 [00:34<00:00, 90.34it/s]\n",
      "100%|███████████████████████████████████████████████████████████████████████████████| 625/625 [00:02<00:00, 235.62it/s]\n"
     ]
    },
    {
     "name": "stdout",
     "output_type": "stream",
     "text": [
      "--------------------------------------------------------------\n",
      "Epoch: 86\n",
      "--------------------------------------------------------------\n",
      "Trainig loss: 0.1314983678945899\n",
      "--------------------------------------------------------------\n",
      "Accuracy of the network on the train images: 95.294 percent (47647/50000)\n",
      "--------------------------------------------------------------\n",
      "Accuracy of the network on the test images: 54.88 percent (5488/10000)\n",
      "--------------------------------------------------------------\n"
     ]
    },
    {
     "name": "stderr",
     "output_type": "stream",
     "text": [
      "100%|██████████████████████████████████████████████████████████████████████████████| 3125/3125 [00:35<00:00, 89.24it/s]\n",
      "100%|███████████████████████████████████████████████████████████████████████████████| 625/625 [00:02<00:00, 229.90it/s]\n"
     ]
    },
    {
     "name": "stdout",
     "output_type": "stream",
     "text": [
      "--------------------------------------------------------------\n",
      "Epoch: 87\n",
      "--------------------------------------------------------------\n",
      "Trainig loss: 0.12712254319086672\n",
      "--------------------------------------------------------------\n",
      "Accuracy of the network on the train images: 95.412 percent (47706/50000)\n",
      "--------------------------------------------------------------\n",
      "Accuracy of the network on the test images: 55.34 percent (5534/10000)\n",
      "--------------------------------------------------------------\n"
     ]
    },
    {
     "name": "stderr",
     "output_type": "stream",
     "text": [
      "100%|██████████████████████████████████████████████████████████████████████████████| 3125/3125 [00:34<00:00, 89.37it/s]\n",
      "100%|███████████████████████████████████████████████████████████████████████████████| 625/625 [00:02<00:00, 241.88it/s]\n"
     ]
    },
    {
     "name": "stdout",
     "output_type": "stream",
     "text": [
      "--------------------------------------------------------------\n",
      "Epoch: 88\n",
      "--------------------------------------------------------------\n",
      "Trainig loss: 0.12950980455257\n",
      "--------------------------------------------------------------\n",
      "Accuracy of the network on the train images: 95.41 percent (47705/50000)\n",
      "--------------------------------------------------------------\n",
      "Accuracy of the network on the test images: 55.05 percent (5505/10000)\n",
      "--------------------------------------------------------------\n"
     ]
    },
    {
     "name": "stderr",
     "output_type": "stream",
     "text": [
      "100%|██████████████████████████████████████████████████████████████████████████████| 3125/3125 [00:34<00:00, 90.09it/s]\n",
      "100%|███████████████████████████████████████████████████████████████████████████████| 625/625 [00:02<00:00, 240.40it/s]\n"
     ]
    },
    {
     "name": "stdout",
     "output_type": "stream",
     "text": [
      "--------------------------------------------------------------\n",
      "Epoch: 89\n",
      "--------------------------------------------------------------\n",
      "Trainig loss: 0.12720650646954776\n",
      "--------------------------------------------------------------\n",
      "Accuracy of the network on the train images: 95.53 percent (47765/50000)\n",
      "--------------------------------------------------------------\n",
      "Accuracy of the network on the test images: 54.74 percent (5474/10000)\n",
      "--------------------------------------------------------------\n"
     ]
    },
    {
     "name": "stderr",
     "output_type": "stream",
     "text": [
      "100%|██████████████████████████████████████████████████████████████████████████████| 3125/3125 [00:34<00:00, 90.61it/s]\n",
      "100%|███████████████████████████████████████████████████████████████████████████████| 625/625 [00:02<00:00, 237.16it/s]\n"
     ]
    },
    {
     "name": "stdout",
     "output_type": "stream",
     "text": [
      "--------------------------------------------------------------\n",
      "Epoch: 90\n",
      "--------------------------------------------------------------\n",
      "Trainig loss: 0.12311392440214754\n",
      "--------------------------------------------------------------\n",
      "Accuracy of the network on the train images: 95.606 percent (47803/50000)\n",
      "--------------------------------------------------------------\n",
      "Accuracy of the network on the test images: 55.29 percent (5529/10000)\n",
      "--------------------------------------------------------------\n"
     ]
    },
    {
     "name": "stderr",
     "output_type": "stream",
     "text": [
      "100%|██████████████████████████████████████████████████████████████████████████████| 3125/3125 [00:35<00:00, 89.24it/s]\n",
      "100%|███████████████████████████████████████████████████████████████████████████████| 625/625 [00:02<00:00, 234.21it/s]\n"
     ]
    },
    {
     "name": "stdout",
     "output_type": "stream",
     "text": [
      "--------------------------------------------------------------\n",
      "Epoch: 91\n",
      "--------------------------------------------------------------\n",
      "Trainig loss: 0.12691256375044585\n",
      "--------------------------------------------------------------\n",
      "Accuracy of the network on the train images: 95.488 percent (47744/50000)\n",
      "--------------------------------------------------------------\n",
      "Accuracy of the network on the test images: 55.36 percent (5536/10000)\n",
      "--------------------------------------------------------------\n"
     ]
    },
    {
     "name": "stderr",
     "output_type": "stream",
     "text": [
      "100%|██████████████████████████████████████████████████████████████████████████████| 3125/3125 [00:34<00:00, 89.71it/s]\n",
      "100%|███████████████████████████████████████████████████████████████████████████████| 625/625 [00:02<00:00, 239.02it/s]\n"
     ]
    },
    {
     "name": "stdout",
     "output_type": "stream",
     "text": [
      "--------------------------------------------------------------\n",
      "Epoch: 92\n",
      "--------------------------------------------------------------\n",
      "Trainig loss: 0.12294593576788902\n",
      "--------------------------------------------------------------\n",
      "Accuracy of the network on the train images: 95.496 percent (47748/50000)\n",
      "--------------------------------------------------------------\n",
      "Accuracy of the network on the test images: 55.22 percent (5522/10000)\n",
      "--------------------------------------------------------------\n"
     ]
    },
    {
     "name": "stderr",
     "output_type": "stream",
     "text": [
      "100%|██████████████████████████████████████████████████████████████████████████████| 3125/3125 [00:34<00:00, 90.43it/s]\n",
      "100%|███████████████████████████████████████████████████████████████████████████████| 625/625 [00:02<00:00, 239.98it/s]\n"
     ]
    },
    {
     "name": "stdout",
     "output_type": "stream",
     "text": [
      "--------------------------------------------------------------\n",
      "Epoch: 93\n",
      "--------------------------------------------------------------\n",
      "Trainig loss: 0.11804766542136669\n",
      "--------------------------------------------------------------\n",
      "Accuracy of the network on the train images: 95.796 percent (47898/50000)\n",
      "--------------------------------------------------------------\n",
      "Accuracy of the network on the test images: 55.14 percent (5514/10000)\n",
      "--------------------------------------------------------------\n"
     ]
    },
    {
     "name": "stderr",
     "output_type": "stream",
     "text": [
      "100%|██████████████████████████████████████████████████████████████████████████████| 3125/3125 [00:35<00:00, 89.26it/s]\n",
      "100%|███████████████████████████████████████████████████████████████████████████████| 625/625 [00:02<00:00, 230.41it/s]\n"
     ]
    },
    {
     "name": "stdout",
     "output_type": "stream",
     "text": [
      "--------------------------------------------------------------\n",
      "Epoch: 94\n",
      "--------------------------------------------------------------\n",
      "Trainig loss: 0.11974721754770726\n",
      "--------------------------------------------------------------\n",
      "Accuracy of the network on the train images: 95.706 percent (47853/50000)\n",
      "--------------------------------------------------------------\n",
      "Accuracy of the network on the test images: 54.86 percent (5486/10000)\n",
      "--------------------------------------------------------------\n"
     ]
    },
    {
     "name": "stderr",
     "output_type": "stream",
     "text": [
      "100%|██████████████████████████████████████████████████████████████████████████████| 3125/3125 [00:34<00:00, 89.60it/s]\n",
      "100%|███████████████████████████████████████████████████████████████████████████████| 625/625 [00:02<00:00, 242.03it/s]\n"
     ]
    },
    {
     "name": "stdout",
     "output_type": "stream",
     "text": [
      "--------------------------------------------------------------\n",
      "Epoch: 95\n",
      "--------------------------------------------------------------\n",
      "Trainig loss: 0.11605295726843179\n",
      "--------------------------------------------------------------\n",
      "Accuracy of the network on the train images: 95.914 percent (47957/50000)\n",
      "--------------------------------------------------------------\n",
      "Accuracy of the network on the test images: 55.23 percent (5523/10000)\n",
      "--------------------------------------------------------------\n"
     ]
    },
    {
     "name": "stderr",
     "output_type": "stream",
     "text": [
      "100%|██████████████████████████████████████████████████████████████████████████████| 3125/3125 [00:34<00:00, 89.81it/s]\n",
      "100%|███████████████████████████████████████████████████████████████████████████████| 625/625 [00:02<00:00, 234.42it/s]\n"
     ]
    },
    {
     "name": "stdout",
     "output_type": "stream",
     "text": [
      "--------------------------------------------------------------\n",
      "Epoch: 96\n",
      "--------------------------------------------------------------\n",
      "Trainig loss: 0.11572773093461991\n",
      "--------------------------------------------------------------\n",
      "Accuracy of the network on the train images: 95.868 percent (47934/50000)\n",
      "--------------------------------------------------------------\n",
      "Accuracy of the network on the test images: 55.42 percent (5542/10000)\n",
      "--------------------------------------------------------------\n"
     ]
    },
    {
     "name": "stderr",
     "output_type": "stream",
     "text": [
      "100%|██████████████████████████████████████████████████████████████████████████████| 3125/3125 [00:34<00:00, 90.78it/s]\n",
      "100%|███████████████████████████████████████████████████████████████████████████████| 625/625 [00:02<00:00, 246.15it/s]\n"
     ]
    },
    {
     "name": "stdout",
     "output_type": "stream",
     "text": [
      "--------------------------------------------------------------\n",
      "Epoch: 97\n",
      "--------------------------------------------------------------\n",
      "Trainig loss: 0.11223969067201019\n",
      "--------------------------------------------------------------\n",
      "Accuracy of the network on the train images: 96.058 percent (48029/50000)\n",
      "--------------------------------------------------------------\n",
      "Accuracy of the network on the test images: 55.18 percent (5518/10000)\n",
      "--------------------------------------------------------------\n"
     ]
    },
    {
     "name": "stderr",
     "output_type": "stream",
     "text": [
      "100%|██████████████████████████████████████████████████████████████████████████████| 3125/3125 [00:34<00:00, 91.53it/s]\n",
      "100%|███████████████████████████████████████████████████████████████████████████████| 625/625 [00:02<00:00, 232.81it/s]\n"
     ]
    },
    {
     "name": "stdout",
     "output_type": "stream",
     "text": [
      "--------------------------------------------------------------\n",
      "Epoch: 98\n",
      "--------------------------------------------------------------\n",
      "Trainig loss: 0.11123014026626944\n",
      "--------------------------------------------------------------\n",
      "Accuracy of the network on the train images: 96.0 percent (48000/50000)\n",
      "--------------------------------------------------------------\n",
      "Accuracy of the network on the test images: 55.16 percent (5516/10000)\n",
      "--------------------------------------------------------------\n"
     ]
    },
    {
     "name": "stderr",
     "output_type": "stream",
     "text": [
      "100%|██████████████████████████████████████████████████████████████████████████████| 3125/3125 [00:34<00:00, 89.70it/s]\n",
      "100%|███████████████████████████████████████████████████████████████████████████████| 625/625 [00:02<00:00, 240.25it/s]\n"
     ]
    },
    {
     "name": "stdout",
     "output_type": "stream",
     "text": [
      "--------------------------------------------------------------\n",
      "Epoch: 99\n",
      "--------------------------------------------------------------\n",
      "Trainig loss: 0.11181785537347197\n",
      "--------------------------------------------------------------\n",
      "Accuracy of the network on the train images: 95.922 percent (47961/50000)\n",
      "--------------------------------------------------------------\n",
      "Accuracy of the network on the test images: 55.34 percent (5534/10000)\n",
      "--------------------------------------------------------------\n"
     ]
    },
    {
     "name": "stderr",
     "output_type": "stream",
     "text": [
      "100%|██████████████████████████████████████████████████████████████████████████████| 3125/3125 [00:35<00:00, 89.25it/s]\n",
      "100%|███████████████████████████████████████████████████████████████████████████████| 625/625 [00:02<00:00, 229.49it/s]\n"
     ]
    },
    {
     "name": "stdout",
     "output_type": "stream",
     "text": [
      "--------------------------------------------------------------\n",
      "Epoch: 100\n",
      "--------------------------------------------------------------\n",
      "Trainig loss: 0.1105626452819258\n",
      "--------------------------------------------------------------\n",
      "Accuracy of the network on the train images: 96.046 percent (48023/50000)\n",
      "--------------------------------------------------------------\n",
      "Accuracy of the network on the test images: 54.98 percent (5498/10000)\n",
      "--------------------------------------------------------------\n"
     ]
    },
    {
     "name": "stderr",
     "output_type": "stream",
     "text": [
      "100%|██████████████████████████████████████████████████████████████████████████████| 3125/3125 [00:35<00:00, 88.76it/s]\n",
      "100%|███████████████████████████████████████████████████████████████████████████████| 625/625 [00:02<00:00, 240.44it/s]\n"
     ]
    },
    {
     "name": "stdout",
     "output_type": "stream",
     "text": [
      "--------------------------------------------------------------\n",
      "Epoch: 101\n",
      "--------------------------------------------------------------\n",
      "Trainig loss: 0.10672226353842765\n",
      "--------------------------------------------------------------\n",
      "Accuracy of the network on the train images: 96.16 percent (48080/50000)\n",
      "--------------------------------------------------------------\n",
      "Accuracy of the network on the test images: 55.33 percent (5533/10000)\n",
      "--------------------------------------------------------------\n"
     ]
    },
    {
     "name": "stderr",
     "output_type": "stream",
     "text": [
      "100%|██████████████████████████████████████████████████████████████████████████████| 3125/3125 [00:34<00:00, 89.62it/s]\n",
      "100%|███████████████████████████████████████████████████████████████████████████████| 625/625 [00:02<00:00, 235.52it/s]\n"
     ]
    },
    {
     "name": "stdout",
     "output_type": "stream",
     "text": [
      "--------------------------------------------------------------\n",
      "Epoch: 102\n",
      "--------------------------------------------------------------\n",
      "Trainig loss: 0.10613199319228529\n",
      "--------------------------------------------------------------\n",
      "Accuracy of the network on the train images: 96.15 percent (48075/50000)\n",
      "--------------------------------------------------------------\n",
      "Accuracy of the network on the test images: 55.23 percent (5523/10000)\n",
      "--------------------------------------------------------------\n"
     ]
    },
    {
     "name": "stderr",
     "output_type": "stream",
     "text": [
      "100%|██████████████████████████████████████████████████████████████████████████████| 3125/3125 [00:34<00:00, 90.34it/s]\n",
      "100%|███████████████████████████████████████████████████████████████████████████████| 625/625 [00:02<00:00, 241.40it/s]\n"
     ]
    },
    {
     "name": "stdout",
     "output_type": "stream",
     "text": [
      "--------------------------------------------------------------\n",
      "Epoch: 103\n",
      "--------------------------------------------------------------\n",
      "Trainig loss: 0.10829607720904053\n",
      "--------------------------------------------------------------\n",
      "Accuracy of the network on the train images: 96.074 percent (48037/50000)\n",
      "--------------------------------------------------------------\n",
      "Accuracy of the network on the test images: 54.91 percent (5491/10000)\n",
      "--------------------------------------------------------------\n"
     ]
    },
    {
     "name": "stderr",
     "output_type": "stream",
     "text": [
      "100%|██████████████████████████████████████████████████████████████████████████████| 3125/3125 [00:34<00:00, 89.77it/s]\n",
      "100%|███████████████████████████████████████████████████████████████████████████████| 625/625 [00:02<00:00, 228.67it/s]\n"
     ]
    },
    {
     "name": "stdout",
     "output_type": "stream",
     "text": [
      "--------------------------------------------------------------\n",
      "Epoch: 104\n",
      "--------------------------------------------------------------\n",
      "Trainig loss: 0.10475839735545218\n",
      "--------------------------------------------------------------\n",
      "Accuracy of the network on the train images: 96.264 percent (48132/50000)\n",
      "--------------------------------------------------------------\n",
      "Accuracy of the network on the test images: 55.13 percent (5513/10000)\n",
      "--------------------------------------------------------------\n"
     ]
    },
    {
     "name": "stderr",
     "output_type": "stream",
     "text": [
      "100%|██████████████████████████████████████████████████████████████████████████████| 3125/3125 [00:34<00:00, 90.11it/s]\n",
      "100%|███████████████████████████████████████████████████████████████████████████████| 625/625 [00:02<00:00, 234.33it/s]\n"
     ]
    },
    {
     "name": "stdout",
     "output_type": "stream",
     "text": [
      "--------------------------------------------------------------\n",
      "Epoch: 105\n",
      "--------------------------------------------------------------\n",
      "Trainig loss: 0.10563390653461217\n",
      "--------------------------------------------------------------\n",
      "Accuracy of the network on the train images: 96.24 percent (48120/50000)\n",
      "--------------------------------------------------------------\n",
      "Accuracy of the network on the test images: 55.11 percent (5511/10000)\n",
      "--------------------------------------------------------------\n"
     ]
    },
    {
     "name": "stderr",
     "output_type": "stream",
     "text": [
      "100%|██████████████████████████████████████████████████████████████████████████████| 3125/3125 [00:34<00:00, 89.89it/s]\n",
      "100%|███████████████████████████████████████████████████████████████████████████████| 625/625 [00:02<00:00, 239.44it/s]\n"
     ]
    },
    {
     "name": "stdout",
     "output_type": "stream",
     "text": [
      "--------------------------------------------------------------\n",
      "Epoch: 106\n",
      "--------------------------------------------------------------\n",
      "Trainig loss: 0.10289281846344471\n",
      "--------------------------------------------------------------\n",
      "Accuracy of the network on the train images: 96.35 percent (48175/50000)\n",
      "--------------------------------------------------------------\n",
      "Accuracy of the network on the test images: 54.56 percent (5456/10000)\n",
      "--------------------------------------------------------------\n"
     ]
    },
    {
     "name": "stderr",
     "output_type": "stream",
     "text": [
      "100%|██████████████████████████████████████████████████████████████████████████████| 3125/3125 [00:34<00:00, 90.87it/s]\n",
      "100%|███████████████████████████████████████████████████████████████████████████████| 625/625 [00:02<00:00, 240.57it/s]\n"
     ]
    },
    {
     "name": "stdout",
     "output_type": "stream",
     "text": [
      "--------------------------------------------------------------\n",
      "Epoch: 107\n",
      "--------------------------------------------------------------\n",
      "Trainig loss: 0.10076899655852467\n",
      "--------------------------------------------------------------\n",
      "Accuracy of the network on the train images: 96.404 percent (48202/50000)\n",
      "--------------------------------------------------------------\n",
      "Accuracy of the network on the test images: 55.38 percent (5538/10000)\n",
      "--------------------------------------------------------------\n"
     ]
    },
    {
     "name": "stderr",
     "output_type": "stream",
     "text": [
      "100%|██████████████████████████████████████████████████████████████████████████████| 3125/3125 [00:34<00:00, 88.60it/s]\n",
      "100%|███████████████████████████████████████████████████████████████████████████████| 625/625 [00:02<00:00, 239.01it/s]\n"
     ]
    },
    {
     "name": "stdout",
     "output_type": "stream",
     "text": [
      "--------------------------------------------------------------\n",
      "Epoch: 108\n",
      "--------------------------------------------------------------\n",
      "Trainig loss: 0.10044419555336237\n",
      "--------------------------------------------------------------\n",
      "Accuracy of the network on the train images: 96.368 percent (48184/50000)\n",
      "--------------------------------------------------------------\n",
      "Accuracy of the network on the test images: 54.72 percent (5472/10000)\n",
      "--------------------------------------------------------------\n"
     ]
    },
    {
     "name": "stderr",
     "output_type": "stream",
     "text": [
      "100%|██████████████████████████████████████████████████████████████████████████████| 3125/3125 [00:35<00:00, 89.22it/s]\n",
      "100%|███████████████████████████████████████████████████████████████████████████████| 625/625 [00:02<00:00, 228.31it/s]\n"
     ]
    },
    {
     "name": "stdout",
     "output_type": "stream",
     "text": [
      "--------------------------------------------------------------\n",
      "Epoch: 109\n",
      "--------------------------------------------------------------\n",
      "Trainig loss: 0.09920229302309454\n",
      "--------------------------------------------------------------\n",
      "Accuracy of the network on the train images: 96.446 percent (48223/50000)\n",
      "--------------------------------------------------------------\n",
      "Accuracy of the network on the test images: 54.33 percent (5433/10000)\n",
      "--------------------------------------------------------------\n"
     ]
    },
    {
     "name": "stderr",
     "output_type": "stream",
     "text": [
      "100%|██████████████████████████████████████████████████████████████████████████████| 3125/3125 [00:34<00:00, 90.90it/s]\n",
      "100%|███████████████████████████████████████████████████████████████████████████████| 625/625 [00:02<00:00, 243.78it/s]\n"
     ]
    },
    {
     "name": "stdout",
     "output_type": "stream",
     "text": [
      "--------------------------------------------------------------\n",
      "Epoch: 110\n",
      "--------------------------------------------------------------\n",
      "Trainig loss: 0.09938084197983146\n",
      "--------------------------------------------------------------\n",
      "Accuracy of the network on the train images: 96.488 percent (48244/50000)\n",
      "--------------------------------------------------------------\n",
      "Accuracy of the network on the test images: 55.05 percent (5505/10000)\n",
      "--------------------------------------------------------------\n"
     ]
    },
    {
     "name": "stderr",
     "output_type": "stream",
     "text": [
      "100%|██████████████████████████████████████████████████████████████████████████████| 3125/3125 [00:34<00:00, 94.94it/s]\n",
      "100%|███████████████████████████████████████████████████████████████████████████████| 625/625 [00:02<00:00, 235.43it/s]\n"
     ]
    },
    {
     "name": "stdout",
     "output_type": "stream",
     "text": [
      "--------------------------------------------------------------\n",
      "Epoch: 111\n",
      "--------------------------------------------------------------\n",
      "Trainig loss: 0.09157887184787541\n",
      "--------------------------------------------------------------\n",
      "Accuracy of the network on the train images: 96.628 percent (48314/50000)\n",
      "--------------------------------------------------------------\n",
      "Accuracy of the network on the test images: 55.27 percent (5527/10000)\n",
      "--------------------------------------------------------------\n"
     ]
    },
    {
     "name": "stderr",
     "output_type": "stream",
     "text": [
      "100%|██████████████████████████████████████████████████████████████████████████████| 3125/3125 [00:33<00:00, 91.95it/s]\n",
      "100%|███████████████████████████████████████████████████████████████████████████████| 625/625 [00:02<00:00, 243.35it/s]\n"
     ]
    },
    {
     "name": "stdout",
     "output_type": "stream",
     "text": [
      "--------------------------------------------------------------\n",
      "Epoch: 112\n",
      "--------------------------------------------------------------\n",
      "Trainig loss: 0.0952552248582989\n",
      "--------------------------------------------------------------\n",
      "Accuracy of the network on the train images: 96.612 percent (48306/50000)\n",
      "--------------------------------------------------------------\n",
      "Accuracy of the network on the test images: 54.89 percent (5489/10000)\n",
      "--------------------------------------------------------------\n"
     ]
    },
    {
     "name": "stderr",
     "output_type": "stream",
     "text": [
      "100%|██████████████████████████████████████████████████████████████████████████████| 3125/3125 [00:34<00:00, 91.91it/s]\n",
      "100%|███████████████████████████████████████████████████████████████████████████████| 625/625 [00:02<00:00, 240.76it/s]\n"
     ]
    },
    {
     "name": "stdout",
     "output_type": "stream",
     "text": [
      "--------------------------------------------------------------\n",
      "Epoch: 113\n",
      "--------------------------------------------------------------\n",
      "Trainig loss: 0.09457285552628339\n",
      "--------------------------------------------------------------\n",
      "Accuracy of the network on the train images: 96.586 percent (48293/50000)\n",
      "--------------------------------------------------------------\n",
      "Accuracy of the network on the test images: 54.07 percent (5407/10000)\n",
      "--------------------------------------------------------------\n"
     ]
    },
    {
     "name": "stderr",
     "output_type": "stream",
     "text": [
      "100%|██████████████████████████████████████████████████████████████████████████████| 3125/3125 [00:33<00:00, 92.16it/s]\n",
      "100%|███████████████████████████████████████████████████████████████████████████████| 625/625 [00:02<00:00, 237.96it/s]\n"
     ]
    },
    {
     "name": "stdout",
     "output_type": "stream",
     "text": [
      "--------------------------------------------------------------\n",
      "Epoch: 114\n",
      "--------------------------------------------------------------\n",
      "Trainig loss: 0.09940852091424167\n",
      "--------------------------------------------------------------\n",
      "Accuracy of the network on the train images: 96.434 percent (48217/50000)\n",
      "--------------------------------------------------------------\n",
      "Accuracy of the network on the test images: 54.56 percent (5456/10000)\n",
      "--------------------------------------------------------------\n"
     ]
    },
    {
     "name": "stderr",
     "output_type": "stream",
     "text": [
      "100%|██████████████████████████████████████████████████████████████████████████████| 3125/3125 [00:33<00:00, 94.72it/s]\n",
      "100%|███████████████████████████████████████████████████████████████████████████████| 625/625 [00:02<00:00, 242.36it/s]\n"
     ]
    },
    {
     "name": "stdout",
     "output_type": "stream",
     "text": [
      "--------------------------------------------------------------\n",
      "Epoch: 115\n",
      "--------------------------------------------------------------\n",
      "Trainig loss: 0.08771826834321023\n",
      "--------------------------------------------------------------\n",
      "Accuracy of the network on the train images: 96.822 percent (48411/50000)\n",
      "--------------------------------------------------------------\n",
      "Accuracy of the network on the test images: 54.84 percent (5484/10000)\n",
      "--------------------------------------------------------------\n"
     ]
    },
    {
     "name": "stderr",
     "output_type": "stream",
     "text": [
      "100%|██████████████████████████████████████████████████████████████████████████████| 3125/3125 [00:33<00:00, 94.32it/s]\n",
      "100%|███████████████████████████████████████████████████████████████████████████████| 625/625 [00:02<00:00, 246.32it/s]\n"
     ]
    },
    {
     "name": "stdout",
     "output_type": "stream",
     "text": [
      "--------------------------------------------------------------\n",
      "Epoch: 116\n",
      "--------------------------------------------------------------\n",
      "Trainig loss: 0.09333535177007317\n",
      "--------------------------------------------------------------\n",
      "Accuracy of the network on the train images: 96.734 percent (48367/50000)\n",
      "--------------------------------------------------------------\n",
      "Accuracy of the network on the test images: 55.02 percent (5502/10000)\n",
      "--------------------------------------------------------------\n"
     ]
    },
    {
     "name": "stderr",
     "output_type": "stream",
     "text": [
      "100%|██████████████████████████████████████████████████████████████████████████████| 3125/3125 [00:34<00:00, 91.85it/s]\n",
      "100%|███████████████████████████████████████████████████████████████████████████████| 625/625 [00:02<00:00, 239.90it/s]\n"
     ]
    },
    {
     "name": "stdout",
     "output_type": "stream",
     "text": [
      "--------------------------------------------------------------\n",
      "Epoch: 117\n",
      "--------------------------------------------------------------\n",
      "Trainig loss: 0.09262990162655711\n",
      "--------------------------------------------------------------\n",
      "Accuracy of the network on the train images: 96.644 percent (48322/50000)\n",
      "--------------------------------------------------------------\n",
      "Accuracy of the network on the test images: 54.67 percent (5467/10000)\n",
      "--------------------------------------------------------------\n"
     ]
    },
    {
     "name": "stderr",
     "output_type": "stream",
     "text": [
      "100%|██████████████████████████████████████████████████████████████████████████████| 3125/3125 [00:33<00:00, 92.08it/s]\n",
      "100%|███████████████████████████████████████████████████████████████████████████████| 625/625 [00:02<00:00, 248.38it/s]\n"
     ]
    },
    {
     "name": "stdout",
     "output_type": "stream",
     "text": [
      "--------------------------------------------------------------\n",
      "Epoch: 118\n",
      "--------------------------------------------------------------\n",
      "Trainig loss: 0.09053317441437393\n",
      "--------------------------------------------------------------\n",
      "Accuracy of the network on the train images: 96.7 percent (48350/50000)\n",
      "--------------------------------------------------------------\n",
      "Accuracy of the network on the test images: 54.38 percent (5438/10000)\n",
      "--------------------------------------------------------------\n"
     ]
    },
    {
     "name": "stderr",
     "output_type": "stream",
     "text": [
      "100%|██████████████████████████████████████████████████████████████████████████████| 3125/3125 [00:33<00:00, 91.92it/s]\n",
      "100%|███████████████████████████████████████████████████████████████████████████████| 625/625 [00:02<00:00, 236.32it/s]\n"
     ]
    },
    {
     "name": "stdout",
     "output_type": "stream",
     "text": [
      "--------------------------------------------------------------\n",
      "Epoch: 119\n",
      "--------------------------------------------------------------\n",
      "Trainig loss: 0.09096439164670184\n",
      "--------------------------------------------------------------\n",
      "Accuracy of the network on the train images: 96.808 percent (48404/50000)\n",
      "--------------------------------------------------------------\n",
      "Accuracy of the network on the test images: 55.27 percent (5527/10000)\n",
      "--------------------------------------------------------------\n"
     ]
    },
    {
     "name": "stderr",
     "output_type": "stream",
     "text": [
      "100%|██████████████████████████████████████████████████████████████████████████████| 3125/3125 [00:34<00:00, 91.90it/s]\n",
      "100%|███████████████████████████████████████████████████████████████████████████████| 625/625 [00:02<00:00, 236.67it/s]\n"
     ]
    },
    {
     "name": "stdout",
     "output_type": "stream",
     "text": [
      "--------------------------------------------------------------\n",
      "Epoch: 120\n",
      "--------------------------------------------------------------\n",
      "Trainig loss: 0.0855353128187731\n",
      "--------------------------------------------------------------\n",
      "Accuracy of the network on the train images: 96.936 percent (48468/50000)\n",
      "--------------------------------------------------------------\n",
      "Accuracy of the network on the test images: 55.01 percent (5501/10000)\n",
      "--------------------------------------------------------------\n"
     ]
    },
    {
     "name": "stderr",
     "output_type": "stream",
     "text": [
      "100%|██████████████████████████████████████████████████████████████████████████████| 3125/3125 [00:34<00:00, 91.58it/s]\n",
      "100%|███████████████████████████████████████████████████████████████████████████████| 625/625 [00:02<00:00, 245.64it/s]\n"
     ]
    },
    {
     "name": "stdout",
     "output_type": "stream",
     "text": [
      "--------------------------------------------------------------\n",
      "Epoch: 121\n",
      "--------------------------------------------------------------\n",
      "Trainig loss: 0.08297573835745453\n",
      "--------------------------------------------------------------\n",
      "Accuracy of the network on the train images: 97.04 percent (48520/50000)\n",
      "--------------------------------------------------------------\n",
      "Accuracy of the network on the test images: 55.23 percent (5523/10000)\n",
      "--------------------------------------------------------------\n"
     ]
    },
    {
     "name": "stderr",
     "output_type": "stream",
     "text": [
      "100%|██████████████████████████████████████████████████████████████████████████████| 3125/3125 [00:34<00:00, 91.16it/s]\n",
      "100%|███████████████████████████████████████████████████████████████████████████████| 625/625 [00:02<00:00, 238.36it/s]\n"
     ]
    },
    {
     "name": "stdout",
     "output_type": "stream",
     "text": [
      "--------------------------------------------------------------\n",
      "Epoch: 122\n",
      "--------------------------------------------------------------\n",
      "Trainig loss: 0.08734858946647495\n",
      "--------------------------------------------------------------\n",
      "Accuracy of the network on the train images: 96.862 percent (48431/50000)\n",
      "--------------------------------------------------------------\n",
      "Accuracy of the network on the test images: 54.74 percent (5474/10000)\n",
      "--------------------------------------------------------------\n"
     ]
    },
    {
     "name": "stderr",
     "output_type": "stream",
     "text": [
      "100%|██████████████████████████████████████████████████████████████████████████████| 3125/3125 [00:34<00:00, 90.48it/s]\n",
      "100%|███████████████████████████████████████████████████████████████████████████████| 625/625 [00:02<00:00, 242.48it/s]\n"
     ]
    },
    {
     "name": "stdout",
     "output_type": "stream",
     "text": [
      "--------------------------------------------------------------\n",
      "Epoch: 123\n",
      "--------------------------------------------------------------\n",
      "Trainig loss: 0.08739584723014385\n",
      "--------------------------------------------------------------\n",
      "Accuracy of the network on the train images: 96.87 percent (48435/50000)\n",
      "--------------------------------------------------------------\n",
      "Accuracy of the network on the test images: 55.05 percent (5505/10000)\n",
      "--------------------------------------------------------------\n"
     ]
    },
    {
     "name": "stderr",
     "output_type": "stream",
     "text": [
      "100%|██████████████████████████████████████████████████████████████████████████████| 3125/3125 [00:33<00:00, 91.99it/s]\n",
      "100%|███████████████████████████████████████████████████████████████████████████████| 625/625 [00:02<00:00, 232.97it/s]\n"
     ]
    },
    {
     "name": "stdout",
     "output_type": "stream",
     "text": [
      "--------------------------------------------------------------\n",
      "Epoch: 124\n",
      "--------------------------------------------------------------\n",
      "Trainig loss: 0.08350931836571544\n",
      "--------------------------------------------------------------\n",
      "Accuracy of the network on the train images: 97.034 percent (48517/50000)\n",
      "--------------------------------------------------------------\n",
      "Accuracy of the network on the test images: 54.98 percent (5498/10000)\n",
      "--------------------------------------------------------------\n"
     ]
    },
    {
     "name": "stderr",
     "output_type": "stream",
     "text": [
      "100%|██████████████████████████████████████████████████████████████████████████████| 3125/3125 [00:33<00:00, 92.10it/s]\n",
      "100%|███████████████████████████████████████████████████████████████████████████████| 625/625 [00:02<00:00, 242.58it/s]\n"
     ]
    },
    {
     "name": "stdout",
     "output_type": "stream",
     "text": [
      "--------------------------------------------------------------\n",
      "Epoch: 125\n",
      "--------------------------------------------------------------\n",
      "Trainig loss: 0.09024861521042883\n",
      "--------------------------------------------------------------\n",
      "Accuracy of the network on the train images: 96.644 percent (48322/50000)\n",
      "--------------------------------------------------------------\n",
      "Accuracy of the network on the test images: 54.47 percent (5447/10000)\n",
      "--------------------------------------------------------------\n"
     ]
    },
    {
     "name": "stderr",
     "output_type": "stream",
     "text": [
      "100%|██████████████████████████████████████████████████████████████████████████████| 3125/3125 [00:34<00:00, 91.00it/s]\n",
      "100%|███████████████████████████████████████████████████████████████████████████████| 625/625 [00:02<00:00, 247.13it/s]\n"
     ]
    },
    {
     "name": "stdout",
     "output_type": "stream",
     "text": [
      "--------------------------------------------------------------\n",
      "Epoch: 126\n",
      "--------------------------------------------------------------\n",
      "Trainig loss: 0.07905915339358151\n",
      "--------------------------------------------------------------\n",
      "Accuracy of the network on the train images: 97.198 percent (48599/50000)\n",
      "--------------------------------------------------------------\n",
      "Accuracy of the network on the test images: 55.11 percent (5511/10000)\n",
      "--------------------------------------------------------------\n"
     ]
    },
    {
     "name": "stderr",
     "output_type": "stream",
     "text": [
      "100%|██████████████████████████████████████████████████████████████████████████████| 3125/3125 [00:33<00:00, 92.25it/s]\n",
      "100%|███████████████████████████████████████████████████████████████████████████████| 625/625 [00:02<00:00, 243.56it/s]\n"
     ]
    },
    {
     "name": "stdout",
     "output_type": "stream",
     "text": [
      "--------------------------------------------------------------\n",
      "Epoch: 127\n",
      "--------------------------------------------------------------\n",
      "Trainig loss: 0.08338917686201631\n",
      "--------------------------------------------------------------\n",
      "Accuracy of the network on the train images: 97.004 percent (48502/50000)\n",
      "--------------------------------------------------------------\n",
      "Accuracy of the network on the test images: 55.15 percent (5515/10000)\n",
      "--------------------------------------------------------------\n"
     ]
    },
    {
     "name": "stderr",
     "output_type": "stream",
     "text": [
      "100%|██████████████████████████████████████████████████████████████████████████████| 3125/3125 [00:34<00:00, 91.64it/s]\n",
      "100%|███████████████████████████████████████████████████████████████████████████████| 625/625 [00:02<00:00, 236.14it/s]\n"
     ]
    },
    {
     "name": "stdout",
     "output_type": "stream",
     "text": [
      "--------------------------------------------------------------\n",
      "Epoch: 128\n",
      "--------------------------------------------------------------\n",
      "Trainig loss: 0.0793862676140666\n",
      "--------------------------------------------------------------\n",
      "Accuracy of the network on the train images: 97.178 percent (48589/50000)\n",
      "--------------------------------------------------------------\n",
      "Accuracy of the network on the test images: 55.01 percent (5501/10000)\n",
      "--------------------------------------------------------------\n"
     ]
    },
    {
     "name": "stderr",
     "output_type": "stream",
     "text": [
      "100%|██████████████████████████████████████████████████████████████████████████████| 3125/3125 [00:34<00:00, 91.65it/s]\n",
      "100%|███████████████████████████████████████████████████████████████████████████████| 625/625 [00:02<00:00, 237.97it/s]\n"
     ]
    },
    {
     "name": "stdout",
     "output_type": "stream",
     "text": [
      "--------------------------------------------------------------\n",
      "Epoch: 129\n",
      "--------------------------------------------------------------\n",
      "Trainig loss: 0.08149682981021703\n",
      "--------------------------------------------------------------\n",
      "Accuracy of the network on the train images: 97.03 percent (48515/50000)\n",
      "--------------------------------------------------------------\n",
      "Accuracy of the network on the test images: 54.86 percent (5486/10000)\n",
      "--------------------------------------------------------------\n"
     ]
    },
    {
     "name": "stderr",
     "output_type": "stream",
     "text": [
      "100%|██████████████████████████████████████████████████████████████████████████████| 3125/3125 [00:34<00:00, 91.86it/s]\n",
      "100%|███████████████████████████████████████████████████████████████████████████████| 625/625 [00:02<00:00, 240.48it/s]\n"
     ]
    },
    {
     "name": "stdout",
     "output_type": "stream",
     "text": [
      "--------------------------------------------------------------\n",
      "Epoch: 130\n",
      "--------------------------------------------------------------\n",
      "Trainig loss: 0.08234547964263707\n",
      "--------------------------------------------------------------\n",
      "Accuracy of the network on the train images: 96.99 percent (48495/50000)\n",
      "--------------------------------------------------------------\n",
      "Accuracy of the network on the test images: 55.73 percent (5573/10000)\n",
      "--------------------------------------------------------------\n"
     ]
    },
    {
     "name": "stderr",
     "output_type": "stream",
     "text": [
      "100%|██████████████████████████████████████████████████████████████████████████████| 3125/3125 [00:34<00:00, 91.14it/s]\n",
      "100%|███████████████████████████████████████████████████████████████████████████████| 625/625 [00:02<00:00, 233.74it/s]\n"
     ]
    },
    {
     "name": "stdout",
     "output_type": "stream",
     "text": [
      "--------------------------------------------------------------\n",
      "Epoch: 131\n",
      "--------------------------------------------------------------\n",
      "Trainig loss: 0.07956621769949794\n",
      "--------------------------------------------------------------\n",
      "Accuracy of the network on the train images: 97.212 percent (48606/50000)\n",
      "--------------------------------------------------------------\n",
      "Accuracy of the network on the test images: 54.66 percent (5466/10000)\n",
      "--------------------------------------------------------------\n"
     ]
    },
    {
     "name": "stderr",
     "output_type": "stream",
     "text": [
      "100%|██████████████████████████████████████████████████████████████████████████████| 3125/3125 [00:33<00:00, 92.30it/s]\n",
      "100%|███████████████████████████████████████████████████████████████████████████████| 625/625 [00:02<00:00, 243.43it/s]\n"
     ]
    },
    {
     "name": "stdout",
     "output_type": "stream",
     "text": [
      "--------------------------------------------------------------\n",
      "Epoch: 132\n",
      "--------------------------------------------------------------\n",
      "Trainig loss: 0.07894102802714333\n",
      "--------------------------------------------------------------\n",
      "Accuracy of the network on the train images: 97.17 percent (48585/50000)\n",
      "--------------------------------------------------------------\n",
      "Accuracy of the network on the test images: 54.91 percent (5491/10000)\n",
      "--------------------------------------------------------------\n"
     ]
    },
    {
     "name": "stderr",
     "output_type": "stream",
     "text": [
      "100%|██████████████████████████████████████████████████████████████████████████████| 3125/3125 [00:34<00:00, 91.34it/s]\n",
      "100%|███████████████████████████████████████████████████████████████████████████████| 625/625 [00:02<00:00, 243.20it/s]\n"
     ]
    },
    {
     "name": "stdout",
     "output_type": "stream",
     "text": [
      "--------------------------------------------------------------\n",
      "Epoch: 133\n",
      "--------------------------------------------------------------\n",
      "Trainig loss: 0.07568859196912497\n",
      "--------------------------------------------------------------\n",
      "Accuracy of the network on the train images: 97.272 percent (48636/50000)\n",
      "--------------------------------------------------------------\n",
      "Accuracy of the network on the test images: 54.99 percent (5499/10000)\n",
      "--------------------------------------------------------------\n"
     ]
    },
    {
     "name": "stderr",
     "output_type": "stream",
     "text": [
      "100%|██████████████████████████████████████████████████████████████████████████████| 3125/3125 [00:34<00:00, 91.44it/s]\n",
      "100%|███████████████████████████████████████████████████████████████████████████████| 625/625 [00:02<00:00, 242.85it/s]\n"
     ]
    },
    {
     "name": "stdout",
     "output_type": "stream",
     "text": [
      "--------------------------------------------------------------\n",
      "Epoch: 134\n",
      "--------------------------------------------------------------\n",
      "Trainig loss: 0.07885266757257282\n",
      "--------------------------------------------------------------\n",
      "Accuracy of the network on the train images: 97.162 percent (48581/50000)\n",
      "--------------------------------------------------------------\n",
      "Accuracy of the network on the test images: 55.15 percent (5515/10000)\n",
      "--------------------------------------------------------------\n"
     ]
    },
    {
     "name": "stderr",
     "output_type": "stream",
     "text": [
      "100%|██████████████████████████████████████████████████████████████████████████████| 3125/3125 [00:35<00:00, 88.95it/s]\n",
      "100%|███████████████████████████████████████████████████████████████████████████████| 625/625 [00:02<00:00, 240.15it/s]\n"
     ]
    },
    {
     "name": "stdout",
     "output_type": "stream",
     "text": [
      "--------------------------------------------------------------\n",
      "Epoch: 135\n",
      "--------------------------------------------------------------\n",
      "Trainig loss: 0.07467500797253102\n",
      "--------------------------------------------------------------\n",
      "Accuracy of the network on the train images: 97.376 percent (48688/50000)\n",
      "--------------------------------------------------------------\n",
      "Accuracy of the network on the test images: 55.22 percent (5522/10000)\n",
      "--------------------------------------------------------------\n"
     ]
    },
    {
     "name": "stderr",
     "output_type": "stream",
     "text": [
      "100%|██████████████████████████████████████████████████████████████████████████████| 3125/3125 [00:34<00:00, 89.27it/s]\n",
      "100%|███████████████████████████████████████████████████████████████████████████████| 625/625 [00:02<00:00, 238.01it/s]\n"
     ]
    },
    {
     "name": "stdout",
     "output_type": "stream",
     "text": [
      "--------------------------------------------------------------\n",
      "Epoch: 136\n",
      "--------------------------------------------------------------\n",
      "Trainig loss: 0.07727043562298641\n",
      "--------------------------------------------------------------\n",
      "Accuracy of the network on the train images: 97.288 percent (48644/50000)\n",
      "--------------------------------------------------------------\n",
      "Accuracy of the network on the test images: 54.88 percent (5488/10000)\n",
      "--------------------------------------------------------------\n"
     ]
    },
    {
     "name": "stderr",
     "output_type": "stream",
     "text": [
      "100%|██████████████████████████████████████████████████████████████████████████████| 3125/3125 [00:34<00:00, 85.98it/s]\n",
      "100%|███████████████████████████████████████████████████████████████████████████████| 625/625 [00:02<00:00, 235.88it/s]\n"
     ]
    },
    {
     "name": "stdout",
     "output_type": "stream",
     "text": [
      "--------------------------------------------------------------\n",
      "Epoch: 137\n",
      "--------------------------------------------------------------\n",
      "Trainig loss: 0.07272869415994733\n",
      "--------------------------------------------------------------\n",
      "Accuracy of the network on the train images: 97.354 percent (48677/50000)\n",
      "--------------------------------------------------------------\n",
      "Accuracy of the network on the test images: 55.33 percent (5533/10000)\n",
      "--------------------------------------------------------------\n"
     ]
    },
    {
     "name": "stderr",
     "output_type": "stream",
     "text": [
      "100%|██████████████████████████████████████████████████████████████████████████████| 3125/3125 [00:35<00:00, 89.24it/s]\n",
      "100%|███████████████████████████████████████████████████████████████████████████████| 625/625 [00:02<00:00, 234.89it/s]\n"
     ]
    },
    {
     "name": "stdout",
     "output_type": "stream",
     "text": [
      "--------------------------------------------------------------\n",
      "Epoch: 138\n",
      "--------------------------------------------------------------\n",
      "Trainig loss: 0.07536289030849934\n",
      "--------------------------------------------------------------\n",
      "Accuracy of the network on the train images: 97.3 percent (48650/50000)\n",
      "--------------------------------------------------------------\n",
      "Accuracy of the network on the test images: 55.09 percent (5509/10000)\n",
      "--------------------------------------------------------------\n"
     ]
    },
    {
     "name": "stderr",
     "output_type": "stream",
     "text": [
      "100%|██████████████████████████████████████████████████████████████████████████████| 3125/3125 [00:34<00:00, 90.17it/s]\n",
      "100%|███████████████████████████████████████████████████████████████████████████████| 625/625 [00:02<00:00, 235.97it/s]\n"
     ]
    },
    {
     "name": "stdout",
     "output_type": "stream",
     "text": [
      "--------------------------------------------------------------\n",
      "Epoch: 139\n",
      "--------------------------------------------------------------\n",
      "Trainig loss: 0.07419634571747855\n",
      "--------------------------------------------------------------\n",
      "Accuracy of the network on the train images: 97.302 percent (48651/50000)\n",
      "--------------------------------------------------------------\n",
      "Accuracy of the network on the test images: 55.11 percent (5511/10000)\n",
      "--------------------------------------------------------------\n"
     ]
    },
    {
     "name": "stderr",
     "output_type": "stream",
     "text": [
      "100%|██████████████████████████████████████████████████████████████████████████████| 3125/3125 [00:35<00:00, 89.26it/s]\n",
      "100%|███████████████████████████████████████████████████████████████████████████████| 625/625 [00:02<00:00, 235.17it/s]\n"
     ]
    },
    {
     "name": "stdout",
     "output_type": "stream",
     "text": [
      "--------------------------------------------------------------\n",
      "Epoch: 140\n",
      "--------------------------------------------------------------\n",
      "Trainig loss: 0.07807394746970385\n",
      "--------------------------------------------------------------\n",
      "Accuracy of the network on the train images: 97.17 percent (48585/50000)\n",
      "--------------------------------------------------------------\n",
      "Accuracy of the network on the test images: 55.48 percent (5548/10000)\n",
      "--------------------------------------------------------------\n"
     ]
    },
    {
     "name": "stderr",
     "output_type": "stream",
     "text": [
      "100%|██████████████████████████████████████████████████████████████████████████████| 3125/3125 [00:35<00:00, 89.28it/s]\n",
      "100%|███████████████████████████████████████████████████████████████████████████████| 625/625 [00:02<00:00, 234.19it/s]\n"
     ]
    },
    {
     "name": "stdout",
     "output_type": "stream",
     "text": [
      "--------------------------------------------------------------\n",
      "Epoch: 141\n",
      "--------------------------------------------------------------\n",
      "Trainig loss: 0.07389367847338318\n",
      "--------------------------------------------------------------\n",
      "Accuracy of the network on the train images: 97.302 percent (48651/50000)\n",
      "--------------------------------------------------------------\n",
      "Accuracy of the network on the test images: 54.69 percent (5469/10000)\n",
      "--------------------------------------------------------------\n"
     ]
    },
    {
     "name": "stderr",
     "output_type": "stream",
     "text": [
      "100%|██████████████████████████████████████████████████████████████████████████████| 3125/3125 [00:34<00:00, 90.17it/s]\n",
      "100%|███████████████████████████████████████████████████████████████████████████████| 625/625 [00:02<00:00, 236.92it/s]\n"
     ]
    },
    {
     "name": "stdout",
     "output_type": "stream",
     "text": [
      "--------------------------------------------------------------\n",
      "Epoch: 142\n",
      "--------------------------------------------------------------\n",
      "Trainig loss: 0.07127689327441156\n",
      "--------------------------------------------------------------\n",
      "Accuracy of the network on the train images: 97.388 percent (48694/50000)\n",
      "--------------------------------------------------------------\n",
      "Accuracy of the network on the test images: 54.97 percent (5497/10000)\n",
      "--------------------------------------------------------------\n"
     ]
    },
    {
     "name": "stderr",
     "output_type": "stream",
     "text": [
      "100%|██████████████████████████████████████████████████████████████████████████████| 3125/3125 [00:34<00:00, 91.38it/s]\n",
      "100%|███████████████████████████████████████████████████████████████████████████████| 625/625 [00:02<00:00, 236.84it/s]\n"
     ]
    },
    {
     "name": "stdout",
     "output_type": "stream",
     "text": [
      "--------------------------------------------------------------\n",
      "Epoch: 143\n",
      "--------------------------------------------------------------\n",
      "Trainig loss: 0.07136553668789565\n",
      "--------------------------------------------------------------\n",
      "Accuracy of the network on the train images: 97.446 percent (48723/50000)\n",
      "--------------------------------------------------------------\n",
      "Accuracy of the network on the test images: 54.76 percent (5476/10000)\n",
      "--------------------------------------------------------------\n"
     ]
    },
    {
     "name": "stderr",
     "output_type": "stream",
     "text": [
      "100%|██████████████████████████████████████████████████████████████████████████████| 3125/3125 [00:34<00:00, 89.90it/s]\n",
      "100%|███████████████████████████████████████████████████████████████████████████████| 625/625 [00:02<00:00, 235.61it/s]\n"
     ]
    },
    {
     "name": "stdout",
     "output_type": "stream",
     "text": [
      "--------------------------------------------------------------\n",
      "Epoch: 144\n",
      "--------------------------------------------------------------\n",
      "Trainig loss: 0.07474749945100397\n",
      "--------------------------------------------------------------\n",
      "Accuracy of the network on the train images: 97.358 percent (48679/50000)\n",
      "--------------------------------------------------------------\n",
      "Accuracy of the network on the test images: 54.86 percent (5486/10000)\n",
      "--------------------------------------------------------------\n"
     ]
    },
    {
     "name": "stderr",
     "output_type": "stream",
     "text": [
      "100%|██████████████████████████████████████████████████████████████████████████████| 3125/3125 [00:34<00:00, 92.96it/s]\n",
      "100%|███████████████████████████████████████████████████████████████████████████████| 625/625 [00:02<00:00, 236.89it/s]\n"
     ]
    },
    {
     "name": "stdout",
     "output_type": "stream",
     "text": [
      "--------------------------------------------------------------\n",
      "Epoch: 145\n",
      "--------------------------------------------------------------\n",
      "Trainig loss: 0.07232127323046326\n",
      "--------------------------------------------------------------\n",
      "Accuracy of the network on the train images: 97.464 percent (48732/50000)\n",
      "--------------------------------------------------------------\n",
      "Accuracy of the network on the test images: 54.91 percent (5491/10000)\n",
      "--------------------------------------------------------------\n"
     ]
    },
    {
     "name": "stderr",
     "output_type": "stream",
     "text": [
      "100%|██████████████████████████████████████████████████████████████████████████████| 3125/3125 [00:34<00:00, 89.53it/s]\n",
      "100%|███████████████████████████████████████████████████████████████████████████████| 625/625 [00:02<00:00, 238.44it/s]\n"
     ]
    },
    {
     "name": "stdout",
     "output_type": "stream",
     "text": [
      "--------------------------------------------------------------\n",
      "Epoch: 146\n",
      "--------------------------------------------------------------\n",
      "Trainig loss: 0.07011598097326234\n",
      "--------------------------------------------------------------\n",
      "Accuracy of the network on the train images: 97.566 percent (48783/50000)\n",
      "--------------------------------------------------------------\n",
      "Accuracy of the network on the test images: 55.1 percent (5510/10000)\n",
      "--------------------------------------------------------------\n"
     ]
    },
    {
     "name": "stderr",
     "output_type": "stream",
     "text": [
      "100%|██████████████████████████████████████████████████████████████████████████████| 3125/3125 [00:34<00:00, 90.04it/s]\n",
      "100%|███████████████████████████████████████████████████████████████████████████████| 625/625 [00:02<00:00, 243.47it/s]\n"
     ]
    },
    {
     "name": "stdout",
     "output_type": "stream",
     "text": [
      "--------------------------------------------------------------\n",
      "Epoch: 147\n",
      "--------------------------------------------------------------\n",
      "Trainig loss: 0.06831700198430568\n",
      "--------------------------------------------------------------\n",
      "Accuracy of the network on the train images: 97.544 percent (48772/50000)\n",
      "--------------------------------------------------------------\n",
      "Accuracy of the network on the test images: 54.96 percent (5496/10000)\n",
      "--------------------------------------------------------------\n"
     ]
    },
    {
     "name": "stderr",
     "output_type": "stream",
     "text": [
      "100%|██████████████████████████████████████████████████████████████████████████████| 3125/3125 [00:34<00:00, 90.03it/s]\n",
      "100%|███████████████████████████████████████████████████████████████████████████████| 625/625 [00:02<00:00, 235.94it/s]\n"
     ]
    },
    {
     "name": "stdout",
     "output_type": "stream",
     "text": [
      "--------------------------------------------------------------\n",
      "Epoch: 148\n",
      "--------------------------------------------------------------\n",
      "Trainig loss: 0.07137411958359181\n",
      "--------------------------------------------------------------\n",
      "Accuracy of the network on the train images: 97.5 percent (48750/50000)\n",
      "--------------------------------------------------------------\n",
      "Accuracy of the network on the test images: 54.58 percent (5458/10000)\n",
      "--------------------------------------------------------------\n"
     ]
    },
    {
     "name": "stderr",
     "output_type": "stream",
     "text": [
      "100%|██████████████████████████████████████████████████████████████████████████████| 3125/3125 [00:34<00:00, 89.63it/s]\n",
      "100%|███████████████████████████████████████████████████████████████████████████████| 625/625 [00:02<00:00, 229.65it/s]\n"
     ]
    },
    {
     "name": "stdout",
     "output_type": "stream",
     "text": [
      "--------------------------------------------------------------\n",
      "Epoch: 149\n",
      "--------------------------------------------------------------\n",
      "Trainig loss: 0.06864302266791462\n",
      "--------------------------------------------------------------\n",
      "Accuracy of the network on the train images: 97.568 percent (48784/50000)\n",
      "--------------------------------------------------------------\n",
      "Accuracy of the network on the test images: 55.19 percent (5519/10000)\n",
      "--------------------------------------------------------------\n"
     ]
    },
    {
     "name": "stderr",
     "output_type": "stream",
     "text": [
      "100%|██████████████████████████████████████████████████████████████████████████████| 3125/3125 [00:34<00:00, 89.50it/s]\n",
      "100%|███████████████████████████████████████████████████████████████████████████████| 625/625 [00:02<00:00, 239.13it/s]\n"
     ]
    },
    {
     "name": "stdout",
     "output_type": "stream",
     "text": [
      "--------------------------------------------------------------\n",
      "Epoch: 150\n",
      "--------------------------------------------------------------\n",
      "Trainig loss: 0.06862320175323636\n",
      "--------------------------------------------------------------\n",
      "Accuracy of the network on the train images: 97.626 percent (48813/50000)\n",
      "--------------------------------------------------------------\n",
      "Accuracy of the network on the test images: 55.13 percent (5513/10000)\n",
      "--------------------------------------------------------------\n"
     ]
    }
   ],
   "source": [
    "frequentist_train_acc = []\n",
    "frequentist_val_acc = []\n",
    "\n",
    "for epoch in range(1, num_epochs + 1):\n",
    "    # keep track of training and validation loss\n",
    "    train_loss = 0.0\n",
    "    valid_loss = 0.0\n",
    "\n",
    "    m_train = math.ceil(len(train_data) / batch_size)\n",
    "    m_test= math.ceil(len(test_data) / batch_size)\n",
    "    frequentist_net.train()\n",
    "\n",
    "    total = 0\n",
    "    correct = 0\n",
    "\n",
    "    for batch_idx, (data, target) in zip(tqdm(range(m_train)),(train_loader)):\n",
    "        # move tensors to GPU if CUDA is available\n",
    "        if use_cuda:\n",
    "            data, target = data.cuda(), target.cuda()\n",
    "        optimizer.zero_grad()\n",
    "        # forward pass: compute predicted outputs by passing inputs to the model\n",
    "        output = frequentist_net(data)\n",
    "\n",
    "        _, predicted = torch.max(output.data, 1)\n",
    "        total += target.size(0)\n",
    "        correct += (predicted == target).sum().item()\n",
    "\n",
    "        # calculate the batch loss\n",
    "        loss = criterion(output, target)\n",
    "        # backward pass: compute gradient of the loss with respect to model parameters\n",
    "        loss.backward()\n",
    "        # perform a single optimization step (parameter update)\n",
    "        optimizer.step()\n",
    "        # update training loss\n",
    "        train_loss += (loss.item() * data.size(0))\n",
    "\n",
    "    test_correct = 0\n",
    "    test_total = 0\n",
    "\n",
    "    with torch.no_grad():\n",
    "        for i, (test_input, test_target) in zip(tqdm(range(m_test)), test_loader):\n",
    "        # for (test_data, test_target) in test_loader:\n",
    "            test_input, test_target = test_input.cuda(), test_target.cuda()\n",
    "            test_outputs= frequentist_net(test_input)\n",
    "            _, test_predicted = torch.max(test_outputs.data, 1)\n",
    "            test_total += test_target.size(0)\n",
    "            test_correct += (test_predicted == test_target).sum().item()\n",
    "\n",
    "    train_loss = train_loss / len(train_loader.dataset)\n",
    "\n",
    "    frequentist_train_acc.append(correct / total)\n",
    "    frequentist_val_acc.append(test_correct/ test_total)\n",
    "        \n",
    "    print('--------------------------------------------------------------')\n",
    "    print('Epoch:', epoch)\n",
    "    print('--------------------------------------------------------------')\n",
    "    print('Trainig loss:', train_loss)\n",
    "    print('--------------------------------------------------------------')\n",
    "    print('Accuracy of the network on the train images: {} percent ({}/{})'.format (\n",
    "            100 * correct / total, correct, total))\n",
    "    print('--------------------------------------------------------------')\n",
    "\n",
    "    print('Accuracy of the network on the test images: {} percent ({}/{})'.format (\n",
    "            100 * test_correct/ test_total, test_correct,test_total))\n",
    "    print('--------------------------------------------------------------')\n"
   ]
  },
  {
   "cell_type": "code",
   "execution_count": 14,
   "metadata": {},
   "outputs": [
    {
     "data": {
      "image/png": "[encoded data removed]",
      "text/plain": [
       "<Figure size 432x288 with 1 Axes>"
      ]
     },
     "metadata": {
      "needs_background": "light"
     },
     "output_type": "display_data"
    }
   ],
   "source": [
    "f = plt.figure(0)\n",
    "plt.plot(range(len(frequentist_train_acc)),frequentist_train_acc)\n",
    "plt.plot(range(len(frequentist_val_acc)),frequentist_val_acc)\n",
    "plt.title('Frequentist NN')\n",
    "plt.xlabel('# Epochs')\n",
    "plt.ylabel('Accuracy (%)')\n",
    "plt.legend(('Train','Val'))\n",
    "f.savefig('freq_acc.pdf')"
   ]
  },
  {
   "cell_type": "code",
   "execution_count": null,
   "metadata": {},
   "outputs": [],
   "source": []
  }
 ],
 "metadata": {
  "kernelspec": {
   "display_name": "denisble",
   "language": "python",
   "name": "denisble"
  },
  "language_info": {
   "codemirror_mode": {
    "name": "ipython",
    "version": 3
   },
   "file_extension": ".py",
   "mimetype": "text/x-python",
   "name": "python",
   "nbconvert_exporter": "python",
   "pygments_lexer": "ipython3",
   "version": "3.7.3"
  }
 },
 "nbformat": 4,
 "nbformat_minor": 2
}
